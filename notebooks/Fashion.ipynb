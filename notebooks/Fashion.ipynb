{
 "cells": [
  {
   "cell_type": "code",
   "execution_count": 1,
   "metadata": {},
   "outputs": [],
   "source": [
    "import sys\n",
    "import os\n",
    "import matplotlib.pyplot as plt\n",
    "\n",
    "%load_ext autoreload\n",
    "%autoreload 2\n",
    "\n",
    "import torch\n",
    "import torch.optim as optim\n",
    "from torch.utils.data import DataLoader, TensorDataset\n",
    "from torch.autograd import grad\n",
    "import torch.nn.functional as F\n",
    "\n",
    "sys.path.append('../python')\n",
    "\n",
    "import models\n",
    "from models import FashionCNN\n",
    "\n",
    "\n",
    "sys.path.append('..')"
   ]
  },
  {
   "cell_type": "code",
   "execution_count": 4,
   "metadata": {},
   "outputs": [],
   "source": [
    "import torchvision \n",
    "import torchvision.transforms as tt\n",
    "from torchvision.datasets import FashionMNIST\n",
    "\n",
    "\n",
    "data_dir='../data'\n",
    "if not os.path.exists(data_dir):\n",
    "    os.mkdir(data_dir)\n",
    "\n",
    "# run below only if you want to claculate the mean and std, but I already did\n",
    "# print(\"Downloading FashionMNIST data...\")\n",
    "# fashion_train = FashionMNIST(data_dir, train=True, download=True)\n",
    "fashion_test = FashionMNIST(data_dir, train=False, download=True)\n",
    "\n",
    "# train_long=torch.stack([tt.ToTensor()(im).view(-1) for im,_ in fashion_train])\n",
    "# test_long=torch.stack([tt.ToTensor()(im).view(-1) for im,_ in fashion_test])\n",
    "\n",
    "\n",
    "# train_mean = torch.mean(train_long)\n",
    "# train_std = torch.std(train_long)\n",
    "# test_mean = torch.mean(test_long)\n",
    "# test_std = torch.std(test_long)\n",
    "\n",
    "train_mean = 0.2860\n",
    "train_std = 0.3530\n",
    "test_mean = 0.2868\n",
    "test_std = 0.3524\n",
    "\n",
    "test_transform=tt.Compose([\n",
    "    tt.ToTensor(), \n",
    "    tt.Normalize(mean=(test_mean,),std=(test_std,))\n",
    "])\n",
    "\n",
    "train_null_transform = tt.Compose([\n",
    "    tt.ToTensor(), \n",
    "    tt.Normalize(mean=(train_mean,),std=(train_std,))\n",
    "])\n",
    "\n",
    "train_trans_transform = tt.Compose([\n",
    "    tt.RandomAffine(degrees=0, translate=(0.5, 0.5)),\n",
    "    tt.ToTensor(), \n",
    "    tt.Normalize(mean=(train_mean,),std=(train_std,))\n",
    "])"
   ]
  },
  {
   "cell_type": "code",
   "execution_count": 5,
   "metadata": {},
   "outputs": [
    {
     "data": {
      "image/png": "[encoded data removed]",
      "text/plain": [
       "<Figure size 640x480 with 1 Axes>"
      ]
     },
     "metadata": {},
     "output_type": "display_data"
    },
    {
     "data": {
      "image/png": "[encoded data removed]",
      "text/plain": [
       "<Figure size 640x480 with 1 Axes>"
      ]
     },
     "metadata": {},
     "output_type": "display_data"
    }
   ],
   "source": [
    "plt.imshow(fashion_test[0][0])\n",
    "plt.show()\n",
    "plt.imshow(tt.RandomAffine(degrees=0, translate=(0.5, 0.5))(fashion_test[0][0]))\n",
    "plt.show()"
   ]
  },
  {
   "cell_type": "code",
   "execution_count": 8,
   "metadata": {},
   "outputs": [
    {
     "data": {
      "text/plain": [
       "313"
      ]
     },
     "execution_count": 8,
     "metadata": {},
     "output_type": "execute_result"
    }
   ],
   "source": [
    "len(test_loader)"
   ]
  },
  {
   "cell_type": "code",
   "execution_count": 12,
   "metadata": {},
   "outputs": [
    {
     "name": "stdout",
     "output_type": "stream",
     "text": [
      "0\n",
      "epoch: 0 | train loss: 2.4692426465352377 | val loss: 2.3025851257312033 | acc: 10.00\n",
      "1\n",
      "epoch: 1 | train loss: 2.3025851249694824 | val loss: 2.3025851257312033 | acc: 10.00\n",
      "2\n"
     ]
    }
   ],
   "source": [
    "LR=0.1\n",
    "WD=1e-3\n",
    "epochs=10\n",
    "\n",
    "\n",
    "fashion_train = FashionMNIST(data_dir, train=True, download=True, transform=train_trans_transform)\n",
    "fashion_test = FashionMNIST(data_dir, train=False, download=True, transform=test_transform)\n",
    "\n",
    "train_loader=DataLoader(fashion_train,shuffle=True, batch_size=32)\n",
    "test_loader=DataLoader(fashion_test,shuffle=False, batch_size=32)\n",
    "\n",
    "\n",
    "model = FashionCNN()\n",
    "optimizer = torch.optim.AdamW(model.parameters(), lr=LR, weight_decay=WD)\n",
    "\n",
    "for epoch in range(epochs):\n",
    "    print(epoch)\n",
    "    model.train()\n",
    "\n",
    "    epoc_loss=0.0\n",
    "    for img,lbl in train_loader:\n",
    "        optimizer.zero_grad()\n",
    "        pred = model(img)\n",
    "        loss = F.cross_entropy(pred,lbl)\n",
    "        epoc_loss+=loss.item()\n",
    "        loss.backward()\n",
    "        optimizer.step()\n",
    "    epoc_loss/=len(train_loader)\n",
    "\n",
    "    model.eval()\n",
    "    epoch_val_loss=0.0\n",
    "    correct=0.0\n",
    "    total=0\n",
    "    for img,lbl in test_loader:\n",
    "        pred = model(img)\n",
    "        loss = F.cross_entropy(pred,lbl)\n",
    "        epoch_val_loss+=loss.item()\n",
    "        \n",
    "        pred = pred.argmax(dim=1, keepdim=True)\n",
    "        correct+= (pred.argmax(dim=1) == lbl).type(torch.float).sum().item()\n",
    "        total += lbl.size(0)\n",
    "\n",
    "        \n",
    "    epoch_val_loss/=len(test_loader)\n",
    "    correct/=total\n",
    "    print(f'epoch: {epoch} | train loss: {epoc_loss} | val loss: {epoch_val_loss} | acc: {100*correct:.2f}')"
   ]
  },
  {
   "cell_type": "code",
   "execution_count": null,
   "metadata": {},
   "outputs": [],
   "source": []
  }
 ],
 "metadata": {
  "kernelspec": {
   "display_name": "lasso",
   "language": "python",
   "name": "python3"
  },
  "language_info": {
   "codemirror_mode": {
    "name": "ipython",
    "version": 3
   },
   "file_extension": ".py",
   "mimetype": "text/x-python",
   "name": "python",
   "nbconvert_exporter": "python",
   "pygments_lexer": "ipython3",
   "version": "3.8.17"
  }
 },
 "nbformat": 4,
 "nbformat_minor": 2
}
