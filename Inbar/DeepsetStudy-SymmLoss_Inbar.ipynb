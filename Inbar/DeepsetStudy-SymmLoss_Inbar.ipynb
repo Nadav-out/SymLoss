{
 "cells": [
  {
   "cell_type": "code",
   "execution_count": 1,
   "id": "73e093bf-74ef-4feb-bb1e-9648b79909ad",
   "metadata": {},
   "outputs": [],
   "source": [
    "# !pip install einops"
   ]
  },
  {
   "cell_type": "code",
   "execution_count": null,
   "id": "281a09b2-fa99-477e-ad5f-caf63f9e24b9",
   "metadata": {},
   "outputs": [],
   "source": []
  },
  {
   "cell_type": "code",
   "execution_count": 1,
   "id": "2231d72d-30d0-46fe-a7de-4a7e856e2891",
   "metadata": {
    "tags": []
   },
   "outputs": [],
   "source": [
    "import numpy as np\n",
    "import matplotlib.pyplot as plt\n",
    "import torch\n",
    "# from torch_geometric.data import Data\n",
    "from sklearn.preprocessing import OneHotEncoder\n",
    "# from torch_geometric.loader import DataLoader\n",
    "from tqdm import tqdm\n",
    "import torch.nn as nn\n",
    "\n",
    "from torch.utils.data import Dataset, DataLoader\n",
    "from torch.autograd import Variable\n",
    "import h5py as h5\n",
    "import hdf5plugin\n",
    "import einops\n",
    "import copy\n",
    "from matplotlib.colors import LogNorm"
   ]
  },
  {
   "cell_type": "code",
   "execution_count": 2,
   "id": "ed90d19e-a853-425e-bf57-8eb5ef57f833",
   "metadata": {
    "tags": []
   },
   "outputs": [],
   "source": [
    "class Transformer(nn.Module):\n",
    "    def __init__(self, input_dim, embed_dim, hidden_size):\n",
    "        super().__init__()\n",
    "\n",
    "        self.embed = nn.Sequential(\n",
    "                nn.Linear(input_dim, embed_dim),\n",
    "                nn.ReLU(),\n",
    "        )\n",
    "\n",
    "        \n",
    "        self.encoder_layer_1 = nn.TransformerEncoderLayer(d_model=embed_dim, nhead=4, batch_first=True, dim_feedforward=embed_dim)\n",
    "        self.encoder_layer_2 = nn.TransformerEncoderLayer(d_model=embed_dim, nhead=4, batch_first=True, dim_feedforward=embed_dim)\n",
    "        self.encoder_layer_3 = nn.TransformerEncoderLayer(d_model=embed_dim, nhead=4, batch_first=True, dim_feedforward=embed_dim)\n",
    "        # self.encoder_layer_4 = nn.TransformerEncoderLayer(d_model=embed_dim, nhead=4, batch_first=True, dim_feedforward=embed_dim)\n",
    "        \n",
    "        \n",
    "        self.classifier = nn.Sequential(\n",
    "                nn.Linear(embed_dim, hidden_size),\n",
    "                nn.ReLU(),\n",
    "                nn.Linear(hidden_size, hidden_size),\n",
    "                nn.ReLU(),\n",
    "                nn.Linear(hidden_size, hidden_size),\n",
    "                nn.ReLU(),\n",
    "                nn.Linear(hidden_size, 1),\n",
    "                nn.Sigmoid(),\n",
    "        )\n",
    "    \n",
    "    def forward(self, x, mask=None):\n",
    "        with torch.backends.cuda.sdp_kernel(enable_flash=False, enable_math=True, enable_mem_efficient=False):\n",
    "            x = self.embed(x)\n",
    "            x = self.encoder_layer_1(x)\n",
    "            x = self.encoder_layer_2(x)\n",
    "            x = self.encoder_layer_3(x)\n",
    "            # x = self.encoder_layer_4(x)\n",
    "            x = torch.sum(x*mask.unsqueeze(-1), axis=1)\n",
    "            return self.classifier(x)\n",
    "        "
   ]
  },
  {
   "cell_type": "code",
   "execution_count": 3,
   "id": "cb72cb18-f798-423f-b697-df3519b15667",
   "metadata": {
    "tags": []
   },
   "outputs": [],
   "source": [
    "class DeepSet(nn.Module):\n",
    "    def __init__(self, input_dim, rho_size, phi_size,):\n",
    "        super().__init__()\n",
    "\n",
    "        self.rho = nn.Sequential(\n",
    "                nn.Linear(input_dim, rho_size),\n",
    "                nn.ReLU(),\n",
    "                nn.Linear(rho_size, rho_size),\n",
    "                nn.ReLU(),\n",
    "                nn.Linear(rho_size, rho_size),\n",
    "                nn.ReLU(),\n",
    "                nn.Linear(rho_size, rho_size)\n",
    "        )\n",
    "\n",
    "        self.phi = nn.Sequential(\n",
    "                nn.Linear(rho_size, phi_size),\n",
    "                nn.ReLU(),\n",
    "                nn.Linear(phi_size, phi_size),\n",
    "                nn.ReLU(),\n",
    "                nn.Linear(phi_size, phi_size),\n",
    "                nn.ReLU(),\n",
    "                nn.Linear(phi_size, 1),\n",
    "                nn.Sigmoid(),\n",
    "        )\n",
    "    def forward(self, x, mask=None):\n",
    "        x = self.rho(x)\n",
    "        x = torch.sum(x*mask.unsqueeze(-1), axis=1)\n",
    "        return self.phi(x)"
   ]
  },
  {
   "cell_type": "code",
   "execution_count": 4,
   "id": "204d295f-d61c-4c5e-b7b8-ddda50a749c8",
   "metadata": {
    "tags": []
   },
   "outputs": [],
   "source": [
    "class JetDataset(Dataset):\n",
    "    def __init__(self, X, y, mask, X_cylindrical=None):\n",
    "        self.X = torch.tensor(X, dtype=torch.float32)\n",
    "        self.y = torch.tensor(y, dtype=torch.float32)\n",
    "        self.mask = mask\n",
    "        self.X_cylindrical = X_cylindrical\n",
    "        \n",
    "\n",
    "    def __len__(self):\n",
    "        return len(self.X)\n",
    "\n",
    "    def __getitem__(self, idx):\n",
    "        if self.X_cylindrical != None:\n",
    "            return self.X[idx], self.y[idx], self.mask[idx], self.X_cylindrical[idx]\n",
    "        else:\n",
    "            return self.X[idx], self.y[idx], self.mask[idx]"
   ]
  },
  {
   "cell_type": "code",
   "execution_count": 5,
   "id": "37db56dc-ba1f-4eb7-87b9-9345dea32b5c",
   "metadata": {
    "tags": []
   },
   "outputs": [],
   "source": [
    "def to_cylindrical(four_vec, log=True):\n",
    "    E = four_vec[:,:,0]\n",
    "    px = four_vec[:,:,1]\n",
    "    py = four_vec[:,:,2]\n",
    "    pz = four_vec[:,:,3]\n",
    "    pt = torch.sqrt(px*px + py*py)\n",
    "    phi = torch.arctan2(py,px)\n",
    "    eta = torch.arcsinh(pz/pt)\n",
    "\n",
    "    if log:\n",
    "        cylindrical_four_vec = torch.cat([\n",
    "            torch.log(E.unsqueeze(-1)),\n",
    "            torch.log(pt.unsqueeze(-1)), \n",
    "            eta.unsqueeze(-1),\n",
    "            phi.unsqueeze(-1)\n",
    "        ], axis=2)\n",
    "\n",
    "        cylindrical_four_vec = torch.where(cylindrical_four_vec < -1e30, 0.0, cylindrical_four_vec)\n",
    "    else:\n",
    "        cylindrical_four_vec = torch.cat([E.unsqueeze(-1),pt.unsqueeze(-1), eta.unsqueeze(-1),phi.unsqueeze(-1)], axis=2)\n",
    "\n",
    "    \n",
    "    return torch.nan_to_num(cylindrical_four_vec)\n",
    "\n",
    "def get_jet_relvars(four_vec, four_vec_cy):\n",
    "    \n",
    "    jet_four_vec = torch.sum(four_vec, dim=1)\n",
    "    jet_four_vec_cy = to_cylindrical(jet_four_vec.unsqueeze(1))\n",
    "\n",
    "    # log(E_const/E_jet)\n",
    "    log_Er = four_vec_cy[:,:,0] - jet_four_vec_cy[:,:,0]\n",
    "\n",
    "    # log(pt_const/pt_jet)\n",
    "    log_ptr = four_vec_cy[:,:,1] - jet_four_vec_cy[:,:,1]\n",
    "\n",
    "    # dEta\n",
    "    dEta = jet_four_vec_cy[:,:,2] - four_vec_cy[:,:,2] \n",
    "\n",
    "    # dPhi\n",
    "    dPhi = jet_four_vec_cy[:,:,3] - four_vec_cy[:,:,3] \n",
    "\n",
    "    # dR\n",
    "    dR = torch.sqrt(dEta**2 + dPhi**2)\n",
    "\n",
    "    jet_features = torch.cat([log_Er.unsqueeze(-1), log_ptr.unsqueeze(-1), dEta.unsqueeze(-1), dPhi.unsqueeze(-1), dR.unsqueeze(-1)], axis=2)\n",
    "\n",
    "    zero_mask = (four_vec == 0.0).any(dim=-1, keepdim=True)\n",
    "    zero_mask = zero_mask.expand_as(jet_features)\n",
    "    jet_features[zero_mask] = 0.0\n",
    "    \n",
    "    return jet_features\n",
    "    \n",
    "\n",
    "def boost_3d(data, device=\"cpu\", beta=None, beta_max=1.0):\n",
    "\n",
    "    # sample beta from sphere\n",
    "    b1 = torch.tensor(np.random.uniform(0, 1, size=len(data)), dtype=torch.float32)\n",
    "    b2 = torch.tensor(np.random.uniform(0, 1, size=len(data)), dtype=torch.float32)\n",
    "    theta = 2 * np.pi * b1\n",
    "    phi = np.arccos(1 - 2 * b2)\n",
    "    \n",
    "    beta_x = np.sin(phi) * np.cos(theta)\n",
    "    beta_y = np.sin(phi) * np.sin(theta)\n",
    "    beta_z = np.cos(phi)\n",
    "    \n",
    "    beta = torch.cat([beta_x.unsqueeze(-1),beta_y.unsqueeze(-1), beta_z.unsqueeze(-1)], axis=1)\n",
    "    # bf = torch.tensor(np.random.uniform(0, beta_max, size=(len(data),1)), dtype=torch.float32)\n",
    "    # bf = bf**(1/2)\n",
    "    beta = beta*beta_max\n",
    "    \n",
    "    beta_norm = torch.norm(beta, dim=1) \n",
    "\n",
    "    # make sure we arent violating speed of light\n",
    "    assert torch.all(beta_norm < 1)\n",
    "\n",
    "    gamma = 1 / torch.sqrt(1 - (beta_norm)**2)\n",
    "\n",
    "    beta_squared = (beta_norm)**2\n",
    "\n",
    "    # make boost matrix\n",
    "    L = torch.zeros((len(data), 4, 4)).to(device)\n",
    "    L[:,0, 0] = gamma\n",
    "    L[:,1:, 0] = L[:,0, 1:] = -gamma.unsqueeze(-1) * beta\n",
    "    L[:, 1:, 1:] = torch.eye(3) + (gamma[...,None, None] - 1) * torch.einsum('bi,bj->bij', (beta, beta))/ beta_squared[...,None, None]\n",
    "    \n",
    "    assert torch.all (torch.linalg.det(L)) == True\n",
    "\n",
    "    boosted_four_vector = torch.einsum('bij,bkj->bik', L.type(torch.float32), data.type(torch.float32)).permute(0, 2, 1) \n",
    "\n",
    "    # Validate that energy values remain non-negative\n",
    "    assert torch.all(boosted_four_vector[:, :, 0] >= 0), \"Negative energy values detected!\"\n",
    "    \n",
    "    return boosted_four_vector\n",
    "\n",
    "def boost(data, pdgid=None, device=\"cpu\", beta=None):\n",
    "    # print(device)\n",
    "    if beta is None:\n",
    "        beta = torch.tensor(np.random.uniform(0, 0.99, size=len(data)), dtype=torch.float32)\n",
    "    else:\n",
    "        beta = beta*torch.ones(len(data))\n",
    "        \n",
    "    beta = beta.repeat(data.shape[1])\n",
    "    gamma = (1-beta*beta)**(-0.5)\n",
    "\n",
    "    beta = beta.to(device)\n",
    "    gamma = gamma.to(device)\n",
    "\n",
    "    E_b = gamma*(data[:,:,0].flatten()- beta* data[:,:,1].flatten() )\n",
    "    px_b = gamma*(data[:,:,1].flatten() - beta* data[:,:,0].flatten())\n",
    "    \n",
    "    E_b = E_b.reshape(data.shape[0], data.shape[1])\n",
    "    px_b = px_b.reshape(data.shape[0], data.shape[1])\n",
    "\n",
    "    four_vec = torch.cat([ E_b.unsqueeze(-1), px_b.unsqueeze(-1), data[:,:,2:4]], axis = 2)\n",
    "    four_vec = four_vec.to(device)\n",
    "\n",
    "    # return  torch.cat([four_vec, data[:,:,4:]], axis = 2)\n",
    "    return four_vec"
   ]
  },
  {
   "cell_type": "code",
   "execution_count": 6,
   "id": "bec3875e-d973-4dfb-9a4f-c2c73ff95345",
   "metadata": {
    "tags": []
   },
   "outputs": [],
   "source": [
    "# load data\n",
    "data_file = \"train.h5\"\n",
    "data =  h5.File(data_file, 'r')"
   ]
  },
  {
   "cell_type": "code",
   "execution_count": 7,
   "id": "2646f162-60db-4aca-8655-a172e1e1b0e8",
   "metadata": {
    "tags": []
   },
   "outputs": [],
   "source": [
    "X = data[\"table\"][\"table\"][\"values_block_0\"]\n",
    "Y = data[\"table\"][\"table\"][\"values_block_1\"]\n",
    "Y = Y[:,1]"
   ]
  },
  {
   "cell_type": "code",
   "execution_count": 8,
   "id": "48feee34-d9ab-4aaa-9efd-525a2e68074c",
   "metadata": {
    "tags": []
   },
   "outputs": [],
   "source": [
    "X_QCD = X[np.where(Y==0)]\n",
    "Y_QCD = Y[np.where(Y==0)]\n",
    "X_top = X[np.where(Y==1)]\n",
    "Y_top = Y[np.where(Y==1)]"
   ]
  },
  {
   "cell_type": "code",
   "execution_count": 9,
   "id": "50b24ed0-4606-49c4-b65b-e75a94f8a802",
   "metadata": {
    "tags": []
   },
   "outputs": [],
   "source": [
    "X_QCD_const = X_QCD[:,:800].reshape(len(X_QCD), 200, 4)\n",
    "X_top_const = X_top[:,:800].reshape(len(X_top), 200, 4)\n",
    "X_top_truth = X_top[:,800:].reshape(len(X_top), 4)"
   ]
  },
  {
   "cell_type": "code",
   "execution_count": 10,
   "id": "57986cd6-162d-4d22-ad23-fe356e303875",
   "metadata": {
    "tags": []
   },
   "outputs": [],
   "source": [
    "mask_QCD = np.all(X_QCD_const != 0, axis=2)\n",
    "mask_top = np.all(X_top_const != 0, axis=2)"
   ]
  },
  {
   "cell_type": "code",
   "execution_count": 11,
   "id": "776e8fc8-5057-4d59-8b49-47cab7208367",
   "metadata": {
    "tags": []
   },
   "outputs": [],
   "source": [
    "nj = 500_000\n",
    "X = np.concatenate([X_QCD_const, X_top_const])\n",
    "Y = np.concatenate([Y_QCD, Y_top])\n",
    "mask = np.concatenate([mask_QCD, mask_top])"
   ]
  },
  {
   "cell_type": "code",
   "execution_count": 12,
   "id": "04558cc0-a003-41dd-9872-d7c9be883e3b",
   "metadata": {
    "tags": []
   },
   "outputs": [],
   "source": [
    "def shuffle(a ,b ,c):\n",
    "    idx = np.random.permutation(len(a))\n",
    "    return a[idx], b[idx], c[idx]"
   ]
  },
  {
   "cell_type": "code",
   "execution_count": 13,
   "id": "fa5c46c7-a52f-42c0-9818-d80c7a6ffef2",
   "metadata": {
    "tags": []
   },
   "outputs": [],
   "source": [
    "X, Y, mask = shuffle(X, Y, mask)\n",
    "train_X = X[:nj]\n",
    "train_Y = Y[:nj]\n",
    "train_mask = mask[:nj]"
   ]
  },
  {
   "cell_type": "code",
   "execution_count": 14,
   "id": "eb2f64dc-8378-4ec4-931d-e17cad6ff5d3",
   "metadata": {
    "tags": []
   },
   "outputs": [],
   "source": [
    "train_X_cylindrical = to_cylindrical(torch.tensor(train_X, dtype=torch.float32))"
   ]
  },
  {
   "cell_type": "code",
   "execution_count": 15,
   "id": "9a472316-a408-4ed1-9ccc-c0f9cbad602e",
   "metadata": {
    "tags": []
   },
   "outputs": [],
   "source": [
    "train_jet_vars = get_jet_relvars(torch.tensor(train_X, dtype=torch.float32), train_X_cylindrical)"
   ]
  },
  {
   "cell_type": "code",
   "execution_count": 16,
   "id": "e99745c6-c923-49ff-b32e-4f5f63b5131f",
   "metadata": {
    "tags": []
   },
   "outputs": [],
   "source": [
    "train_X_cylindrical = torch.cat([train_X_cylindrical,train_jet_vars], axis=2)"
   ]
  },
  {
   "cell_type": "code",
   "execution_count": 17,
   "id": "d2f68218-4aef-4c32-8b42-b465d133428d",
   "metadata": {
    "tags": []
   },
   "outputs": [],
   "source": [
    "data = JetDataset(X=train_X,\n",
    "                  y=train_Y,\n",
    "                  mask=train_mask,\n",
    "                  X_cylindrical=train_X_cylindrical\n",
    "                 )\n",
    "loader = DataLoader(\n",
    "    data,\n",
    "    batch_size=512,\n",
    "    shuffle=True\n",
    ")"
   ]
  },
  {
   "cell_type": "code",
   "execution_count": 18,
   "id": "2306d14d-f327-4cdf-a1b1-a4d006925992",
   "metadata": {
    "tags": []
   },
   "outputs": [],
   "source": [
    "class SymmLoss_pT_eta_phi(nn.Module):\n",
    "\n",
    "    def __init__(self,model, gens_list = [\"Lx\", \"Ly\", \"Lz\", \"Kx\", \"Ky\", \"Kz\"],device=\"cpu\"):\n",
    "        super(SymmLoss_pT_eta_phi, self).__init__()\n",
    "        \n",
    "        self.device = device\n",
    "        self.model = model.to(device)\n",
    "        \n",
    "        # Initialize generators (in future add different reps for inputs?)\n",
    "        GenList_names = []\n",
    "        Lorentz_names = [\"Lx\", \"Ly\", \"Lz\", \"Kx\", \"Ky\", \"Kz\"]\n",
    "        for gen in gens_list:\n",
    "            if gen in Lorentz_names:\n",
    "                GenList_names.append(gen)\n",
    "            else:\n",
    "                print(f\"generator \\n {gen} needs to be one of: {Lorentz_names}\") #This is for now. Later will add a part that deals with calculating the transforamtion for a given generator. \n",
    "                \n",
    "                # self.generators = einops.rearrange(gens_list, 'n w h -> n w h')\n",
    "                # self.generators = self.generators.to(device)\n",
    "        self.generators = GenList_names\n",
    "        \n",
    "        \n",
    "\n",
    "    def forward(self, input, model_rep='scalar',norm = \"none\",nfeatures = \"\", mask=None, log_E=False, log_pT=False):\n",
    "        \n",
    "        input = input.clone().detach().requires_grad_(True)\n",
    "        input = input.to(self.device)\n",
    "\n",
    "        # input_p4 = input\n",
    "        if nfeatures!=\"\":\n",
    "            dim = nfeatures\n",
    "        else:\n",
    "            dim = 4 #self.generators.shape[-1]\n",
    "        #Assuming input is shape [B,d*N] d is the number of features, N is the number of particles\n",
    "        # input_reshaped = einops.rearrange(input, '... (N d) -> ... N d',d = dim)\n",
    "        \n",
    "        E =  torch.exp(input[:,:,0]) if log_E else input[:,:,0]  #assuming input features are ordered as (E,pT,eta,phi)\n",
    "        \n",
    "        pT = torch.exp(input[:,:,1]) if log_pT else input[:,:,1]\n",
    "        \n",
    "        eta = input[:,:,2]\n",
    "        \n",
    "        phi = input[:,:,3]\n",
    "        \n",
    "        GenList = self.generators\n",
    "\n",
    "        # Add back in masked particles\n",
    "        E = torch.masked_fill(E, ~mask, 0)\n",
    "        pT = torch.masked_fill(pT, ~mask, 0)\n",
    "\n",
    "        \n",
    "        #dvar/dp L p, \n",
    "        ngen = len(self.generators)\n",
    "        dE = torch.zeros_like(E).to(self.device)\n",
    "        dpT = torch.zeros_like(pT).to(self.device)\n",
    "        deta = torch.zeros_like(eta).to(self.device)\n",
    "        dphi = torch.zeros_like(phi).to(self.device)\n",
    "        \n",
    "        \n",
    "        #Here for all the Lorentz generators. Later can add options for only some of them.\n",
    "        dE   = {\"Lx\": torch.zeros_like(E),              \"Ly\": torch.zeros_like(E),                \"Lz\":  torch.zeros_like(E),  \"Kx\":pT*torch.cos(phi),                    \"Ky\":pT*torch.sin(phi),                    \"Kz\":pT*torch.sinh(eta)}\n",
    "        dpT  = {\"Lx\": pT*torch.sin(phi)*torch.sinh(eta),\"Ly\": -pT*torch.cos(phi)*torch.sinh(eta), \"Lz\":  torch.zeros_like(pT), \"Kx\":E*torch.cos(phi),                     \"Ky\":E*torch.sin(phi),                     \"Kz\":torch.zeros_like(pT)}\n",
    "        deta = {\"Lx\": -1*torch.sin(phi)*torch.cosh(eta),  \"Ly\": torch.cos(phi)*torch.cosh(eta),     \"Lz\":  torch.zeros_like(eta),\"Kx\":-E*torch.cos(phi)*torch.tanh(eta)/pT, \"Ky\":-E*torch.sin(phi)*torch.tanh(eta)/pT, \"Kz\":E/(pT*torch.cosh(eta))}\n",
    "        dphi = {\"Lx\":  torch.cos(phi)*torch.sinh(eta),  \"Ly\": torch.sin(phi)*torch.sinh(eta),     \"Lz\":-1*torch.ones_like(phi),\"Kx\":-E*torch.sin(phi)/pT,                 \"Ky\":E*torch.cos(phi)/pT,                  \"Kz\":torch.zeros_like(phi)}\n",
    "\n",
    "        \n",
    "        varsE = torch.empty(ngen,E.shape[0],E.shape[1]).to(self.device)\n",
    "        varspT = torch.empty(ngen,E.shape[0],E.shape[1]).to(self.device)\n",
    "        varseta = torch.empty(ngen,E.shape[0],E.shape[1]).to(self.device)\n",
    "        varsphi = torch.empty(ngen,E.shape[0],E.shape[1]).to(self.device)\n",
    "            \n",
    "        for i,gen in enumerate(GenList):\n",
    "            varsE[i] = dE[GenList[i]] /E if log_E else dE[GenList[i]]\n",
    "            varspT[i] = dpT[GenList[i]] /pT if log_pT else dpT[GenList[i]]\n",
    "            varseta[i] = deta[GenList[i]]\n",
    "            varsphi[i] = dphi[GenList[i]]\n",
    "        \n",
    "        varsSymm = torch.stack((varsE,varspT,varseta,varsphi), dim = -1) #[n,B,N,d]\n",
    "\n",
    "        # Deal with Nans from expressions like 0/0\n",
    "        varsSymm = torch.nan_to_num(varsSymm, posinf=0., neginf=0.)\n",
    "        \n",
    "        #print(varsSymm.shape)\n",
    "            \n",
    "        # Compute model output, shape [B]\n",
    "        output = self.model(input, mask)\n",
    "\n",
    "        # Compute gradients with respect to input, shape [B, d*N], B is the batch size, d is the input irrep dimension, N is the number of particles\n",
    "        grads_input, = torch.autograd.grad(outputs=output, inputs=input, grad_outputs=torch.ones_like(output, device=self.device), create_graph=True)\n",
    "\n",
    "        \n",
    "        \n",
    "        # Reshape grads to [B, N, d]\n",
    "        grads_input = grads_input.unsqueeze(0)\n",
    "       \n",
    "        \n",
    "        # Dot with input [n ,B]\n",
    "        differential_trans = torch.einsum('n ... N, ... N -> n ...', varsSymm, grads_input[:,:,:,:4]) # Input has 9 dimensions, only care about first 4 (LogE, LogpT, eta, phi)\n",
    "        \n",
    "        scalar_loss = (differential_trans ** 2).mean()\n",
    "        \n",
    "\n",
    "        \n",
    "        return scalar_loss"
   ]
  },
  {
   "cell_type": "code",
   "execution_count": 19,
   "id": "c7049f3f-b1a1-4c42-b4c8-8e3552d95c73",
   "metadata": {
    "tags": []
   },
   "outputs": [],
   "source": [
    "def train_model(model, dataloader, criterion, optimizer, num_epochs=15, device='cpu', apply_symm=False,lambda_symm = 1.0):\n",
    "\n",
    "    model.to(device)\n",
    "    symmLoss = SymmLoss_pT_eta_phi(model, device=device)\n",
    "    \n",
    "    # save the losses\n",
    "    loss_tracker = {\n",
    "        \"Loss\": [],\n",
    "        \"BCE\": [],\n",
    "        \"Symm_Loss\": [],\n",
    "        \"beta\": []\n",
    "    }\n",
    "    failed_jets = []\n",
    "    for epoch in range(num_epochs):\n",
    "        model.train()  # Set the model to training mode\n",
    "        running_loss = 0.0\n",
    "        rbce = 0.0\n",
    "        rsymm = 0.0\n",
    "\n",
    "        for batch_idx, batch in enumerate(tqdm(dataloader, desc=f\"Epoch: {epoch}\")):\n",
    "            optimizer.zero_grad()  # Zero the gradients\n",
    "            \n",
    "            X, y, mask, X_cy = batch\n",
    "            X = X.to(device)\n",
    "            y = y.to(device)\n",
    "            X_cy = X_cy.to(device)\n",
    "            mask = mask.to(device)                \n",
    "            \n",
    "            outputs = model(X_cy, mask)\n",
    "            bce = criterion(outputs.squeeze(), y)\n",
    "            symm = symmLoss(X_cy, mask=mask)\n",
    "\n",
    "            # print(symm)\n",
    "\n",
    "            # loss =  bce + mse\n",
    "            if apply_symm:\n",
    "                loss = bce + lambda_symm*symm\n",
    "            else:\n",
    "                loss = bce \n",
    "\n",
    "            if torch.isinf(symm):\n",
    "                print(\"Found infinity\")\n",
    "            \n",
    "            loss.backward()  # Backward pass\n",
    "            # gradients too large? \n",
    "            torch.nn.utils.clip_grad_norm_(model.parameters(), 1.)\n",
    "            \n",
    "            optimizer.step()  # Update parameters\n",
    "\n",
    "            running_loss += loss.item()\n",
    "            rbce += bce.item()\n",
    "            rsymm += symm.item()\n",
    "            # rbeta += beta.item()\n",
    "            # break\n",
    "        \n",
    "\n",
    "        running_loss /=len(dataloader)\n",
    "        rbce /= len(dataloader)\n",
    "        rsymm /= len(dataloader)\n",
    "        # rbeta /= len(dataloader)\n",
    "        print(f'Epoch [{epoch+1}/{num_epochs}] Loss: {running_loss:.4f}, BCE: {rbce:.4f}, Symm: {rsymm}')\n",
    "        loss_tracker[\"Loss\"].append(running_loss)\n",
    "        loss_tracker[\"BCE\"].append(rbce)\n",
    "        loss_tracker[\"Symm_Loss\"].append(rsymm)\n",
    "        # loss_tracker[\"beta\"].append(rbeta)\n",
    "        # break\n",
    "        model_clone = copy.deepcopy(model)\n",
    "            \n",
    "    \n",
    "    return loss_tracker,model_clone"
   ]
  },
  {
   "cell_type": "code",
   "execution_count": 20,
   "id": "16959e93-327d-4ec8-9e79-12761de3acf5",
   "metadata": {
    "tags": []
   },
   "outputs": [],
   "source": [
    "def test_lambdas(lambda_vec, dataloader, criterion = torch.nn.BCELoss(), optimizer = \"Adam\",lr = 5e-4, num_epochs=15, device='cpu', apply_symm=False,set_seed = True,seed = int(torch.round(torch.rand(1)*10000))):\n",
    "    \n",
    "    if set_seed:\n",
    "            np.random.seed(seed)\n",
    "            torch.manual_seed(seed)\n",
    "            \n",
    "    train_loader_copy = copy.deepcopy(dataloader)\n",
    "    model = DeepSet(input_dim=9, rho_size=256, phi_size=128)\n",
    "    train_outputs = {}\n",
    "    models = {}\n",
    "    \n",
    "    for lam_val in lambda_vec:\n",
    "        train_loader_copy = copy.deepcopy(dataloader)\n",
    "        if set_seed:\n",
    "            np.random.seed(seed)\n",
    "            torch.manual_seed(seed)\n",
    "            \n",
    "        model_train = copy.deepcopy(model)\n",
    "        total_params = sum(p.numel() for p in model.parameters())\n",
    "        print(f\"Total model parameters: {total_params}\")\n",
    "        optimiser = torch.optim.Adam(model_train.parameters(), lr=lr)\n",
    "\n",
    "        \n",
    "        train_output,model_trained = train_model(model = model_train, dataloader = train_loader_copy, criterion = criterion, optimizer = optimiser, device=\"cuda\",apply_symm=apply_symm,lambda_symm = lam_val)\n",
    "        \n",
    "        models[lam_val] = copy.deepcopy(model_trained)\n",
    "        train_outputs[lam_val] = copy.deepcopy(train_output)\n",
    "    \n",
    "    return train_outputs,models\n",
    "        \n",
    "        \n",
    "        "
   ]
  },
  {
   "cell_type": "code",
   "execution_count": 43,
   "id": "f5c95010-190d-48bc-b072-bf6edd94526a",
   "metadata": {
    "tags": []
   },
   "outputs": [
    {
     "name": "stdout",
     "output_type": "stream",
     "text": [
      "Total model parameters: 265985\n"
     ]
    },
    {
     "name": "stderr",
     "output_type": "stream",
     "text": [
      "Epoch: 0: 100%|██████████| 977/977 [00:44<00:00, 21.73it/s]\n"
     ]
    },
    {
     "name": "stdout",
     "output_type": "stream",
     "text": [
      "Epoch [1/15] Loss: 0.3654, BCE: 0.3654, Symm: 0.0011231614066008412\n"
     ]
    },
    {
     "name": "stderr",
     "output_type": "stream",
     "text": [
      "Epoch: 1: 100%|██████████| 977/977 [00:44<00:00, 21.80it/s]\n"
     ]
    },
    {
     "name": "stdout",
     "output_type": "stream",
     "text": [
      "Epoch [2/15] Loss: 0.2710, BCE: 0.2710, Symm: 0.0005314870316545005\n"
     ]
    },
    {
     "name": "stderr",
     "output_type": "stream",
     "text": [
      "Epoch: 2: 100%|██████████| 977/977 [00:44<00:00, 21.77it/s]\n"
     ]
    },
    {
     "name": "stdout",
     "output_type": "stream",
     "text": [
      "Epoch [3/15] Loss: 0.2577, BCE: 0.2577, Symm: 0.0010515169938326195\n"
     ]
    },
    {
     "name": "stderr",
     "output_type": "stream",
     "text": [
      "Epoch: 3: 100%|██████████| 977/977 [00:44<00:00, 21.72it/s]\n"
     ]
    },
    {
     "name": "stdout",
     "output_type": "stream",
     "text": [
      "Epoch [4/15] Loss: 0.2499, BCE: 0.2499, Symm: 0.0017241857583655288\n"
     ]
    },
    {
     "name": "stderr",
     "output_type": "stream",
     "text": [
      "Epoch: 4: 100%|██████████| 977/977 [00:44<00:00, 21.76it/s]\n"
     ]
    },
    {
     "name": "stdout",
     "output_type": "stream",
     "text": [
      "Epoch [5/15] Loss: 0.2421, BCE: 0.2421, Symm: 0.0016808169779381804\n"
     ]
    },
    {
     "name": "stderr",
     "output_type": "stream",
     "text": [
      "Epoch: 5: 100%|██████████| 977/977 [00:44<00:00, 21.75it/s]\n"
     ]
    },
    {
     "name": "stdout",
     "output_type": "stream",
     "text": [
      "Epoch [6/15] Loss: 0.2370, BCE: 0.2370, Symm: 0.0007695947507470931\n"
     ]
    },
    {
     "name": "stderr",
     "output_type": "stream",
     "text": [
      "Epoch: 6: 100%|██████████| 977/977 [00:44<00:00, 21.76it/s]\n"
     ]
    },
    {
     "name": "stdout",
     "output_type": "stream",
     "text": [
      "Epoch [7/15] Loss: 0.2307, BCE: 0.2307, Symm: 0.00215254002366908\n"
     ]
    },
    {
     "name": "stderr",
     "output_type": "stream",
     "text": [
      "Epoch: 7: 100%|██████████| 977/977 [00:45<00:00, 21.46it/s]\n"
     ]
    },
    {
     "name": "stdout",
     "output_type": "stream",
     "text": [
      "Epoch [8/15] Loss: 0.2254, BCE: 0.2254, Symm: 0.0034455876754422386\n"
     ]
    },
    {
     "name": "stderr",
     "output_type": "stream",
     "text": [
      "Epoch: 8: 100%|██████████| 977/977 [00:45<00:00, 21.61it/s]\n"
     ]
    },
    {
     "name": "stdout",
     "output_type": "stream",
     "text": [
      "Epoch [9/15] Loss: 0.2225, BCE: 0.2225, Symm: 0.004350091882115931\n"
     ]
    },
    {
     "name": "stderr",
     "output_type": "stream",
     "text": [
      "Epoch: 9: 100%|██████████| 977/977 [00:45<00:00, 21.67it/s]\n"
     ]
    },
    {
     "name": "stdout",
     "output_type": "stream",
     "text": [
      "Epoch [10/15] Loss: 0.2212, BCE: 0.2212, Symm: 0.003840977995959802\n"
     ]
    },
    {
     "name": "stderr",
     "output_type": "stream",
     "text": [
      "Epoch: 10: 100%|██████████| 977/977 [00:44<00:00, 21.79it/s]\n"
     ]
    },
    {
     "name": "stdout",
     "output_type": "stream",
     "text": [
      "Epoch [11/15] Loss: 0.2193, BCE: 0.2193, Symm: 0.00658700855698712\n"
     ]
    },
    {
     "name": "stderr",
     "output_type": "stream",
     "text": [
      "Epoch: 11: 100%|██████████| 977/977 [00:44<00:00, 21.75it/s]\n"
     ]
    },
    {
     "name": "stdout",
     "output_type": "stream",
     "text": [
      "Epoch [12/15] Loss: 0.2183, BCE: 0.2183, Symm: 0.007622354882887251\n"
     ]
    },
    {
     "name": "stderr",
     "output_type": "stream",
     "text": [
      "Epoch: 12: 100%|██████████| 977/977 [00:44<00:00, 21.73it/s]\n"
     ]
    },
    {
     "name": "stdout",
     "output_type": "stream",
     "text": [
      "Epoch [13/15] Loss: 0.2177, BCE: 0.2177, Symm: 0.012816343500892304\n"
     ]
    },
    {
     "name": "stderr",
     "output_type": "stream",
     "text": [
      "Epoch: 13: 100%|██████████| 977/977 [00:45<00:00, 21.69it/s]\n"
     ]
    },
    {
     "name": "stdout",
     "output_type": "stream",
     "text": [
      "Epoch [14/15] Loss: 0.2167, BCE: 0.2167, Symm: 0.02357106608766543\n"
     ]
    },
    {
     "name": "stderr",
     "output_type": "stream",
     "text": [
      "Epoch: 14: 100%|██████████| 977/977 [00:44<00:00, 21.77it/s]\n"
     ]
    },
    {
     "name": "stdout",
     "output_type": "stream",
     "text": [
      "Epoch [15/15] Loss: 0.2158, BCE: 0.2158, Symm: 0.11669775489524689\n",
      "Total model parameters: 265985\n"
     ]
    },
    {
     "name": "stderr",
     "output_type": "stream",
     "text": [
      "Epoch: 0: 100%|██████████| 977/977 [00:45<00:00, 21.36it/s]\n"
     ]
    },
    {
     "name": "stdout",
     "output_type": "stream",
     "text": [
      "Epoch [1/15] Loss: 1.4932, BCE: 0.4199, Symm: 0.010732168446646501\n"
     ]
    },
    {
     "name": "stderr",
     "output_type": "stream",
     "text": [
      "Epoch: 1: 100%|██████████| 977/977 [00:45<00:00, 21.51it/s]\n"
     ]
    },
    {
     "name": "stdout",
     "output_type": "stream",
     "text": [
      "Epoch [2/15] Loss: 0.3273, BCE: 0.2889, Symm: 0.00038328160557928904\n"
     ]
    },
    {
     "name": "stderr",
     "output_type": "stream",
     "text": [
      "Epoch: 2: 100%|██████████| 977/977 [00:45<00:00, 21.48it/s]\n"
     ]
    },
    {
     "name": "stdout",
     "output_type": "stream",
     "text": [
      "Epoch [3/15] Loss: 0.2781, BCE: 0.2684, Symm: 9.651615811960973e-05\n"
     ]
    },
    {
     "name": "stderr",
     "output_type": "stream",
     "text": [
      "Epoch: 3: 100%|██████████| 977/977 [00:45<00:00, 21.41it/s]\n"
     ]
    },
    {
     "name": "stdout",
     "output_type": "stream",
     "text": [
      "Epoch [4/15] Loss: 0.2684, BCE: 0.2601, Symm: 8.28837655736125e-05\n"
     ]
    },
    {
     "name": "stderr",
     "output_type": "stream",
     "text": [
      "Epoch: 4: 100%|██████████| 977/977 [00:45<00:00, 21.67it/s]\n"
     ]
    },
    {
     "name": "stdout",
     "output_type": "stream",
     "text": [
      "Epoch [5/15] Loss: 0.3352, BCE: 0.2539, Symm: 0.0008133059285498656\n"
     ]
    },
    {
     "name": "stderr",
     "output_type": "stream",
     "text": [
      "Epoch: 5: 100%|██████████| 977/977 [00:45<00:00, 21.63it/s]\n"
     ]
    },
    {
     "name": "stdout",
     "output_type": "stream",
     "text": [
      "Epoch [6/15] Loss: 0.3264, BCE: 0.2478, Symm: 0.0007862790196094918\n"
     ]
    },
    {
     "name": "stderr",
     "output_type": "stream",
     "text": [
      "Epoch: 6: 100%|██████████| 977/977 [00:45<00:00, 21.66it/s]\n"
     ]
    },
    {
     "name": "stdout",
     "output_type": "stream",
     "text": [
      "Epoch [7/15] Loss: 0.2704, BCE: 0.2380, Symm: 0.0003240234830971246\n"
     ]
    },
    {
     "name": "stderr",
     "output_type": "stream",
     "text": [
      "Epoch: 7: 100%|██████████| 977/977 [00:45<00:00, 21.40it/s]\n"
     ]
    },
    {
     "name": "stdout",
     "output_type": "stream",
     "text": [
      "Epoch [8/15] Loss: 0.2485, BCE: 0.2320, Symm: 0.00016510183504504417\n"
     ]
    },
    {
     "name": "stderr",
     "output_type": "stream",
     "text": [
      "Epoch: 8: 100%|██████████| 977/977 [00:45<00:00, 21.67it/s]\n"
     ]
    },
    {
     "name": "stdout",
     "output_type": "stream",
     "text": [
      "Epoch [9/15] Loss: 0.2423, BCE: 0.2280, Symm: 0.0001433074356923326\n"
     ]
    },
    {
     "name": "stderr",
     "output_type": "stream",
     "text": [
      "Epoch: 9: 100%|██████████| 977/977 [00:45<00:00, 21.64it/s]\n"
     ]
    },
    {
     "name": "stdout",
     "output_type": "stream",
     "text": [
      "Epoch [10/15] Loss: 0.2365, BCE: 0.2273, Symm: 9.272344244911908e-05\n"
     ]
    },
    {
     "name": "stderr",
     "output_type": "stream",
     "text": [
      "Epoch: 10: 100%|██████████| 977/977 [00:45<00:00, 21.60it/s]\n"
     ]
    },
    {
     "name": "stdout",
     "output_type": "stream",
     "text": [
      "Epoch [11/15] Loss: 0.2503, BCE: 0.2247, Symm: 0.0002565952557223446\n"
     ]
    },
    {
     "name": "stderr",
     "output_type": "stream",
     "text": [
      "Epoch: 11: 100%|██████████| 977/977 [00:45<00:00, 21.65it/s]\n"
     ]
    },
    {
     "name": "stdout",
     "output_type": "stream",
     "text": [
      "Epoch [12/15] Loss: 0.2621, BCE: 0.2243, Symm: 0.0003784836292418814\n"
     ]
    },
    {
     "name": "stderr",
     "output_type": "stream",
     "text": [
      "Epoch: 12: 100%|██████████| 977/977 [00:45<00:00, 21.69it/s]\n"
     ]
    },
    {
     "name": "stdout",
     "output_type": "stream",
     "text": [
      "Epoch [13/15] Loss: 0.2304, BCE: 0.2228, Symm: 7.61643665545537e-05\n"
     ]
    },
    {
     "name": "stderr",
     "output_type": "stream",
     "text": [
      "Epoch: 13: 100%|██████████| 977/977 [00:45<00:00, 21.67it/s]\n"
     ]
    },
    {
     "name": "stdout",
     "output_type": "stream",
     "text": [
      "Epoch [14/15] Loss: 0.2436, BCE: 0.2222, Symm: 0.00021423195061290288\n"
     ]
    },
    {
     "name": "stderr",
     "output_type": "stream",
     "text": [
      "Epoch: 14: 100%|██████████| 977/977 [00:45<00:00, 21.64it/s]\n"
     ]
    },
    {
     "name": "stdout",
     "output_type": "stream",
     "text": [
      "Epoch [15/15] Loss: 0.2365, BCE: 0.2207, Symm: 0.00015847971914093156\n",
      "Total model parameters: 265985\n"
     ]
    },
    {
     "name": "stderr",
     "output_type": "stream",
     "text": [
      "Epoch: 0: 100%|██████████| 977/977 [00:45<00:00, 21.60it/s]\n"
     ]
    },
    {
     "name": "stdout",
     "output_type": "stream",
     "text": [
      "Epoch [1/15] Loss: 149.0428, BCE: 0.5888, Symm: 0.014845402217433776\n"
     ]
    },
    {
     "name": "stderr",
     "output_type": "stream",
     "text": [
      "Epoch: 1: 100%|██████████| 977/977 [00:45<00:00, 21.53it/s]\n"
     ]
    },
    {
     "name": "stdout",
     "output_type": "stream",
     "text": [
      "Epoch [2/15] Loss: 19.4402, BCE: 0.4439, Symm: 0.0018996280583107182\n"
     ]
    },
    {
     "name": "stderr",
     "output_type": "stream",
     "text": [
      "Epoch: 2: 100%|██████████| 977/977 [00:45<00:00, 21.57it/s]\n"
     ]
    },
    {
     "name": "stdout",
     "output_type": "stream",
     "text": [
      "Epoch [3/15] Loss: 8.2583, BCE: 0.4060, Symm: 0.0007852325098747501\n"
     ]
    },
    {
     "name": "stderr",
     "output_type": "stream",
     "text": [
      "Epoch: 3: 100%|██████████| 977/977 [00:45<00:00, 21.55it/s]\n"
     ]
    },
    {
     "name": "stdout",
     "output_type": "stream",
     "text": [
      "Epoch [4/15] Loss: 39.2340, BCE: 0.3688, Symm: 0.003886513907470889\n"
     ]
    },
    {
     "name": "stderr",
     "output_type": "stream",
     "text": [
      "Epoch: 4: 100%|██████████| 977/977 [00:45<00:00, 21.51it/s]\n"
     ]
    },
    {
     "name": "stdout",
     "output_type": "stream",
     "text": [
      "Epoch [5/15] Loss: 12.6447, BCE: 0.3004, Symm: 0.0012344273074202607\n"
     ]
    },
    {
     "name": "stderr",
     "output_type": "stream",
     "text": [
      "Epoch: 5: 100%|██████████| 977/977 [00:45<00:00, 21.56it/s]\n"
     ]
    },
    {
     "name": "stdout",
     "output_type": "stream",
     "text": [
      "Epoch [6/15] Loss: 0.4623, BCE: 0.2691, Symm: 1.9324111307691508e-05\n"
     ]
    },
    {
     "name": "stderr",
     "output_type": "stream",
     "text": [
      "Epoch: 6: 100%|██████████| 977/977 [00:45<00:00, 21.51it/s]\n"
     ]
    },
    {
     "name": "stdout",
     "output_type": "stream",
     "text": [
      "Epoch [7/15] Loss: 0.3479, BCE: 0.2637, Symm: 8.420391176270721e-06\n"
     ]
    },
    {
     "name": "stderr",
     "output_type": "stream",
     "text": [
      "Epoch: 7: 100%|██████████| 977/977 [00:45<00:00, 21.53it/s]\n"
     ]
    },
    {
     "name": "stdout",
     "output_type": "stream",
     "text": [
      "Epoch [8/15] Loss: 1.5461, BCE: 0.2591, Symm: 0.00012870306583434826\n"
     ]
    },
    {
     "name": "stderr",
     "output_type": "stream",
     "text": [
      "Epoch: 8: 100%|██████████| 977/977 [00:45<00:00, 21.40it/s]\n"
     ]
    },
    {
     "name": "stdout",
     "output_type": "stream",
     "text": [
      "Epoch [9/15] Loss: 0.7422, BCE: 0.2556, Symm: 4.8660515235215846e-05\n"
     ]
    },
    {
     "name": "stderr",
     "output_type": "stream",
     "text": [
      "Epoch: 9: 100%|██████████| 977/977 [00:45<00:00, 21.30it/s]\n"
     ]
    },
    {
     "name": "stdout",
     "output_type": "stream",
     "text": [
      "Epoch [10/15] Loss: 0.7374, BCE: 0.2510, Symm: 4.863327804292579e-05\n"
     ]
    },
    {
     "name": "stderr",
     "output_type": "stream",
     "text": [
      "Epoch: 10: 100%|██████████| 977/977 [00:45<00:00, 21.59it/s]\n"
     ]
    },
    {
     "name": "stdout",
     "output_type": "stream",
     "text": [
      "Epoch [11/15] Loss: 0.8618, BCE: 0.2439, Symm: 6.178399902363257e-05\n"
     ]
    },
    {
     "name": "stderr",
     "output_type": "stream",
     "text": [
      "Epoch: 11: 100%|██████████| 977/977 [00:45<00:00, 21.55it/s]\n"
     ]
    },
    {
     "name": "stdout",
     "output_type": "stream",
     "text": [
      "Epoch [12/15] Loss: 0.3549, BCE: 0.2410, Symm: 1.138871410548217e-05\n"
     ]
    },
    {
     "name": "stderr",
     "output_type": "stream",
     "text": [
      "Epoch: 12: 100%|██████████| 977/977 [00:45<00:00, 21.52it/s]\n"
     ]
    },
    {
     "name": "stdout",
     "output_type": "stream",
     "text": [
      "Epoch [13/15] Loss: 0.3872, BCE: 0.2387, Symm: 1.4849991199518338e-05\n"
     ]
    },
    {
     "name": "stderr",
     "output_type": "stream",
     "text": [
      "Epoch: 13: 100%|██████████| 977/977 [00:45<00:00, 21.59it/s]\n"
     ]
    },
    {
     "name": "stdout",
     "output_type": "stream",
     "text": [
      "Epoch [14/15] Loss: 0.2962, BCE: 0.2350, Symm: 6.122458536849421e-06\n"
     ]
    },
    {
     "name": "stderr",
     "output_type": "stream",
     "text": [
      "Epoch: 14: 100%|██████████| 977/977 [00:45<00:00, 21.55it/s]\n"
     ]
    },
    {
     "name": "stdout",
     "output_type": "stream",
     "text": [
      "Epoch [15/15] Loss: 0.3900, BCE: 0.2315, Symm: 1.5848679172108393e-05\n"
     ]
    }
   ],
   "source": [
    "lambda_vec = [0.0,100,10000.0]\n",
    "train_outputs,models = test_lambdas(lambda_vec = lambda_vec, dataloader = loader, criterion = torch.nn.BCELoss(), optimizer = \"Adam\",lr = 5e-4, num_epochs=15, device='cuda', apply_symm=True,set_seed = True,seed = 1000)\n"
   ]
  },
  {
   "cell_type": "code",
   "execution_count": 28,
   "id": "bfed7f94-c718-436a-b178-6131596801b0",
   "metadata": {
    "tags": []
   },
   "outputs": [
    {
     "data": {
      "text/plain": [
       "(array([[0., 0., 0., ..., 5., 1., 1.],\n",
       "        [0., 0., 0., ..., 5., 3., 0.],\n",
       "        [0., 0., 0., ..., 3., 3., 0.],\n",
       "        ...,\n",
       "        [0., 0., 0., ..., 3., 3., 0.],\n",
       "        [0., 0., 0., ..., 6., 3., 0.],\n",
       "        [0., 0., 0., ..., 4., 1., 0.]]),\n",
       " array([-5.00032187, -3.85653257, -2.71274328, -1.56895411, -0.42516488,\n",
       "         0.71862435,  1.86241364,  3.00620294,  4.14999199,  5.29378128,\n",
       "         6.43757057]),\n",
       " <a list of 50000 BarContainer objects>)"
      ]
     },
     "execution_count": 28,
     "metadata": {},
     "output_type": "execute_result"
    },
    {
     "data": {
      "image/png": "[encoded data removed]",
      "text/plain": [
       "<Figure size 640x480 with 1 Axes>"
      ]
     },
     "metadata": {},
     "output_type": "display_data"
    }
   ],
   "source": [
    "plt.hist(data.X_cylindrical[0::10,:,1])"
   ]
  },
  {
   "cell_type": "code",
   "execution_count": 21,
   "id": "9c7b8500-9b46-4e2a-a778-c5ce079fd7e4",
   "metadata": {
    "tags": []
   },
   "outputs": [
    {
     "name": "stdout",
     "output_type": "stream",
     "text": [
      "Total model parameters: 265985\n"
     ]
    }
   ],
   "source": [
    "# torch.autograd.set_detect_anomaly(True)\n",
    "\n",
    "# model = Transformer(input_dim=9, embed_dim=256, hidden_size=128)\n",
    "\n",
    "model = DeepSet(input_dim=9, rho_size=256, phi_size=128)\n",
    "\n",
    "\n",
    "total_params = sum(p.numel() for p in model.parameters())\n",
    "print(f\"Total model parameters: {total_params}\")\n",
    "optimiser = torch.optim.Adam(model.parameters(), lr=5e-4)\n",
    "\n",
    "BCE = torch.nn.BCELoss()"
   ]
  },
  {
   "cell_type": "code",
   "execution_count": 22,
   "id": "408cd25a-9d51-4481-8d7d-ba1784049929",
   "metadata": {
    "scrolled": true,
    "tags": []
   },
   "outputs": [
    {
     "name": "stderr",
     "output_type": "stream",
     "text": [
      "Epoch: 0: 100%|██████████| 977/977 [00:31<00:00, 30.83it/s]\n"
     ]
    },
    {
     "name": "stdout",
     "output_type": "stream",
     "text": [
      "Epoch [1/15] Loss: 0.3704, BCE: 0.3704, Symm: 3.473077686798813\n"
     ]
    },
    {
     "name": "stderr",
     "output_type": "stream",
     "text": [
      "Epoch: 1: 100%|██████████| 977/977 [00:30<00:00, 31.96it/s]\n"
     ]
    },
    {
     "name": "stdout",
     "output_type": "stream",
     "text": [
      "Epoch [2/15] Loss: 0.2728, BCE: 0.2728, Symm: 4.2573648148894065\n"
     ]
    },
    {
     "name": "stderr",
     "output_type": "stream",
     "text": [
      "Epoch: 2: 100%|██████████| 977/977 [00:30<00:00, 31.78it/s]\n"
     ]
    },
    {
     "name": "stdout",
     "output_type": "stream",
     "text": [
      "Epoch [3/15] Loss: 0.2575, BCE: 0.2575, Symm: 0.953594375192021\n"
     ]
    },
    {
     "name": "stderr",
     "output_type": "stream",
     "text": [
      "Epoch: 3: 100%|██████████| 977/977 [00:30<00:00, 32.03it/s]\n"
     ]
    },
    {
     "name": "stdout",
     "output_type": "stream",
     "text": [
      "Epoch [4/15] Loss: 0.2480, BCE: 0.2480, Symm: 0.5762679337723107\n"
     ]
    },
    {
     "name": "stderr",
     "output_type": "stream",
     "text": [
      "Epoch: 4: 100%|██████████| 977/977 [00:30<00:00, 31.86it/s]\n"
     ]
    },
    {
     "name": "stdout",
     "output_type": "stream",
     "text": [
      "Epoch [5/15] Loss: 0.2414, BCE: 0.2414, Symm: 0.6074227991846591\n"
     ]
    },
    {
     "name": "stderr",
     "output_type": "stream",
     "text": [
      "Epoch: 5: 100%|██████████| 977/977 [00:30<00:00, 31.67it/s]\n"
     ]
    },
    {
     "name": "stdout",
     "output_type": "stream",
     "text": [
      "Epoch [6/15] Loss: 0.2371, BCE: 0.2371, Symm: 0.46178428523677156\n"
     ]
    },
    {
     "name": "stderr",
     "output_type": "stream",
     "text": [
      "Epoch: 6: 100%|██████████| 977/977 [00:30<00:00, 31.93it/s]\n"
     ]
    },
    {
     "name": "stdout",
     "output_type": "stream",
     "text": [
      "Epoch [7/15] Loss: 0.2307, BCE: 0.2307, Symm: 0.8984282912196498\n"
     ]
    },
    {
     "name": "stderr",
     "output_type": "stream",
     "text": [
      "Epoch: 7: 100%|██████████| 977/977 [00:30<00:00, 32.01it/s]\n"
     ]
    },
    {
     "name": "stdout",
     "output_type": "stream",
     "text": [
      "Epoch [8/15] Loss: 0.2274, BCE: 0.2274, Symm: 1.3760823964035498\n"
     ]
    },
    {
     "name": "stderr",
     "output_type": "stream",
     "text": [
      "Epoch: 8: 100%|██████████| 977/977 [00:30<00:00, 31.94it/s]\n"
     ]
    },
    {
     "name": "stdout",
     "output_type": "stream",
     "text": [
      "Epoch [9/15] Loss: 0.2242, BCE: 0.2242, Symm: 52.036609246976056\n"
     ]
    },
    {
     "name": "stderr",
     "output_type": "stream",
     "text": [
      "Epoch: 9: 100%|██████████| 977/977 [00:30<00:00, 31.95it/s]\n"
     ]
    },
    {
     "name": "stdout",
     "output_type": "stream",
     "text": [
      "Epoch [10/15] Loss: 0.2218, BCE: 0.2218, Symm: 2.2220575359241015\n"
     ]
    },
    {
     "name": "stderr",
     "output_type": "stream",
     "text": [
      "Epoch: 10: 100%|██████████| 977/977 [00:30<00:00, 32.03it/s]\n"
     ]
    },
    {
     "name": "stdout",
     "output_type": "stream",
     "text": [
      "Epoch [11/15] Loss: 0.2204, BCE: 0.2204, Symm: 10.980549849470659\n"
     ]
    },
    {
     "name": "stderr",
     "output_type": "stream",
     "text": [
      "Epoch: 11: 100%|██████████| 977/977 [00:30<00:00, 31.85it/s]\n"
     ]
    },
    {
     "name": "stdout",
     "output_type": "stream",
     "text": [
      "Epoch [12/15] Loss: 0.2204, BCE: 0.2204, Symm: 4.3765685944498625\n"
     ]
    },
    {
     "name": "stderr",
     "output_type": "stream",
     "text": [
      "Epoch: 12: 100%|██████████| 977/977 [00:30<00:00, 32.05it/s]\n"
     ]
    },
    {
     "name": "stdout",
     "output_type": "stream",
     "text": [
      "Epoch [13/15] Loss: 0.2194, BCE: 0.2194, Symm: 4.367250013513111\n"
     ]
    },
    {
     "name": "stderr",
     "output_type": "stream",
     "text": [
      "Epoch: 13: 100%|██████████| 977/977 [00:30<00:00, 32.09it/s]\n"
     ]
    },
    {
     "name": "stdout",
     "output_type": "stream",
     "text": [
      "Epoch [14/15] Loss: 0.2180, BCE: 0.2180, Symm: 11.15147048175457\n"
     ]
    },
    {
     "name": "stderr",
     "output_type": "stream",
     "text": [
      "Epoch: 14: 100%|██████████| 977/977 [00:30<00:00, 32.09it/s]"
     ]
    },
    {
     "name": "stdout",
     "output_type": "stream",
     "text": [
      "Epoch [15/15] Loss: 0.2174, BCE: 0.2174, Symm: 19.83696887879313\n"
     ]
    },
    {
     "name": "stderr",
     "output_type": "stream",
     "text": [
      "\n"
     ]
    }
   ],
   "source": [
    "train_output = train_model(model, loader, BCE, optimiser, device=\"cuda\")"
   ]
  },
  {
   "cell_type": "code",
   "execution_count": 23,
   "id": "c5661031-ee14-4d80-abce-4dfc8f2b6703",
   "metadata": {
    "tags": []
   },
   "outputs": [
    {
     "name": "stderr",
     "output_type": "stream",
     "text": [
      "Epoch: 0: 100%|██████████| 977/977 [00:45<00:00, 21.68it/s]\n"
     ]
    },
    {
     "name": "stdout",
     "output_type": "stream",
     "text": [
      "Epoch [1/15] Loss: 1.6279, BCE: 0.4517, Symm: 1.1761861234659319\n"
     ]
    },
    {
     "name": "stderr",
     "output_type": "stream",
     "text": [
      "Epoch: 1: 100%|██████████| 977/977 [00:45<00:00, 21.61it/s]\n"
     ]
    },
    {
     "name": "stdout",
     "output_type": "stream",
     "text": [
      "Epoch [2/15] Loss: 0.8102, BCE: 0.3410, Symm: 0.46924678782552115\n"
     ]
    },
    {
     "name": "stderr",
     "output_type": "stream",
     "text": [
      "Epoch: 2: 100%|██████████| 977/977 [00:45<00:00, 21.58it/s]\n"
     ]
    },
    {
     "name": "stdout",
     "output_type": "stream",
     "text": [
      "Epoch [3/15] Loss: 2.6876, BCE: 0.3007, Symm: 2.3868746820712383\n"
     ]
    },
    {
     "name": "stderr",
     "output_type": "stream",
     "text": [
      "Epoch: 3: 100%|██████████| 977/977 [00:45<00:00, 21.53it/s]\n"
     ]
    },
    {
     "name": "stdout",
     "output_type": "stream",
     "text": [
      "Epoch [4/15] Loss: 0.3422, BCE: 0.2761, Symm: 0.06607624533978942\n"
     ]
    },
    {
     "name": "stderr",
     "output_type": "stream",
     "text": [
      "Epoch: 4: 100%|██████████| 977/977 [00:45<00:00, 21.63it/s]\n"
     ]
    },
    {
     "name": "stdout",
     "output_type": "stream",
     "text": [
      "Epoch [5/15] Loss: 9.9358, BCE: 0.2696, Symm: 9.666159081608086\n"
     ]
    },
    {
     "name": "stderr",
     "output_type": "stream",
     "text": [
      "Epoch: 5: 100%|██████████| 977/977 [00:45<00:00, 21.66it/s]\n"
     ]
    },
    {
     "name": "stdout",
     "output_type": "stream",
     "text": [
      "Epoch [6/15] Loss: 2.4647, BCE: 0.2621, Symm: 2.2025520793065057\n"
     ]
    },
    {
     "name": "stderr",
     "output_type": "stream",
     "text": [
      "Epoch: 6: 100%|██████████| 977/977 [00:45<00:00, 21.62it/s]\n"
     ]
    },
    {
     "name": "stdout",
     "output_type": "stream",
     "text": [
      "Epoch [7/15] Loss: 0.6087, BCE: 0.2583, Symm: 0.35043383905370484\n"
     ]
    },
    {
     "name": "stderr",
     "output_type": "stream",
     "text": [
      "Epoch: 7: 100%|██████████| 977/977 [00:45<00:00, 21.63it/s]\n"
     ]
    },
    {
     "name": "stdout",
     "output_type": "stream",
     "text": [
      "Epoch [8/15] Loss: 0.2770, BCE: 0.2488, Symm: 0.02822775402887531\n"
     ]
    },
    {
     "name": "stderr",
     "output_type": "stream",
     "text": [
      "Epoch: 8: 100%|██████████| 977/977 [00:45<00:00, 21.62it/s]\n"
     ]
    },
    {
     "name": "stdout",
     "output_type": "stream",
     "text": [
      "Epoch [9/15] Loss: 0.3036, BCE: 0.2448, Symm: 0.0588367823641242\n"
     ]
    },
    {
     "name": "stderr",
     "output_type": "stream",
     "text": [
      "Epoch: 9: 100%|██████████| 977/977 [00:45<00:00, 21.64it/s]\n"
     ]
    },
    {
     "name": "stdout",
     "output_type": "stream",
     "text": [
      "Epoch [10/15] Loss: 0.2622, BCE: 0.2397, Symm: 0.022423673865834333\n"
     ]
    },
    {
     "name": "stderr",
     "output_type": "stream",
     "text": [
      "Epoch: 10: 100%|██████████| 977/977 [00:45<00:00, 21.48it/s]\n"
     ]
    },
    {
     "name": "stdout",
     "output_type": "stream",
     "text": [
      "Epoch [11/15] Loss: 0.2619, BCE: 0.2344, Symm: 0.027476536824025725\n"
     ]
    },
    {
     "name": "stderr",
     "output_type": "stream",
     "text": [
      "Epoch: 11: 100%|██████████| 977/977 [00:45<00:00, 21.67it/s]\n"
     ]
    },
    {
     "name": "stdout",
     "output_type": "stream",
     "text": [
      "Epoch [12/15] Loss: 0.2984, BCE: 0.2324, Symm: 0.06604085621858223\n"
     ]
    },
    {
     "name": "stderr",
     "output_type": "stream",
     "text": [
      "Epoch: 12: 100%|██████████| 977/977 [00:45<00:00, 21.64it/s]\n"
     ]
    },
    {
     "name": "stdout",
     "output_type": "stream",
     "text": [
      "Epoch [13/15] Loss: 0.2714, BCE: 0.2306, Symm: 0.04085874731188684\n"
     ]
    },
    {
     "name": "stderr",
     "output_type": "stream",
     "text": [
      "Epoch: 13: 100%|██████████| 977/977 [00:45<00:00, 21.60it/s]\n"
     ]
    },
    {
     "name": "stdout",
     "output_type": "stream",
     "text": [
      "Epoch [14/15] Loss: 0.2671, BCE: 0.2272, Symm: 0.03987269515186899\n"
     ]
    },
    {
     "name": "stderr",
     "output_type": "stream",
     "text": [
      "Epoch: 14: 100%|██████████| 977/977 [00:45<00:00, 21.66it/s]"
     ]
    },
    {
     "name": "stdout",
     "output_type": "stream",
     "text": [
      "Epoch [15/15] Loss: 0.2623, BCE: 0.2265, Symm: 0.035812182720138586\n"
     ]
    },
    {
     "name": "stderr",
     "output_type": "stream",
     "text": [
      "\n"
     ]
    }
   ],
   "source": [
    "model_symm = DeepSet(input_dim=9, rho_size=256, phi_size=128)\n",
    "optimiser = torch.optim.Adam(model_symm.parameters(), lr=5e-4)\n",
    "train_output_symm = train_model(model_symm, loader, BCE, optimiser, device=\"cuda\", apply_symm=True)"
   ]
  },
  {
   "cell_type": "code",
   "execution_count": 24,
   "id": "ec4a038e-f260-430e-809d-38aad73cf012",
   "metadata": {},
   "outputs": [],
   "source": [
    "# bad_jet = train_output[1][0]"
   ]
  },
  {
   "cell_type": "code",
   "execution_count": 25,
   "id": "f442eff8-02e2-4e8c-8c2b-27ddb4cb8cb8",
   "metadata": {},
   "outputs": [],
   "source": [
    "# for i in range(9):\n",
    "#     plt.figure()'\n",
    "#     var = train_X_cylindrical[:1_000,:,i].flatten()[train_mask[:1_000].flatten()]\n",
    "#     bad_var = bad_jet[:,:,i].flatten()\n",
    "#     # plt.hist(var, bins=50)\n",
    "#     plt.hist(bad_var.cpu(), bins=50)"
   ]
  },
  {
   "cell_type": "code",
   "execution_count": 44,
   "id": "8f3e4191-d242-4f6d-b657-35644c663894",
   "metadata": {
    "tags": []
   },
   "outputs": [
    {
     "data": {
      "image/png": "[encoded data removed]",
      "text/plain": [
       "<Figure size 1200x400 with 3 Axes>"
      ]
     },
     "metadata": {},
     "output_type": "display_data"
    }
   ],
   "source": [
    "\n",
    "#losses_symm = train_outputs_symm\n",
    "fig, ax = plt.subplots(1,3, figsize=(12,4))\n",
    "for lam_val in train_outputs.keys():\n",
    "    losses = train_outputs[lam_val]\n",
    "    # Total Loss\n",
    "    lam = f\"{lam_val:.1e}\"\n",
    "    ax[0].plot(losses[\"Loss\"], label=rf\"$\\lambda = {lam}$\")\n",
    "    #ax[0].plot(losses_symm[\"Loss\"], label=\"Symm Loss Applied\")\n",
    "    ax[0].set_xlabel(\"Epoch\")\n",
    "    ax[0].set_ylabel(\"Total Loss\")\n",
    "    ax[0].legend()\n",
    "\n",
    "    # BCE Component\n",
    "    ax[1].plot(losses[\"BCE\"])\n",
    "    #ax[1].plot(losses_symm[\"BCE\"])\n",
    "    ax[1].set_xlabel(\"Epoch\")\n",
    "    ax[1].set_ylabel(\"BCE Loss\")\n",
    "\n",
    "    # MSE Component\n",
    "    ax[2].plot(losses[\"Symm_Loss\"])\n",
    "    #ax[2].plot(losses_symm[\"Symm_Loss\"])\n",
    "    ax[2].set_xlabel(\"Epoch\")\n",
    "    ax[2].set_ylabel(\"Symm Loss\")\n",
    "\n",
    "fig.tight_layout()\n",
    "plt.savefig(\"top_tagging_loss_100k_symmLoss_applied.png\", dpi=150)"
   ]
  },
  {
   "cell_type": "code",
   "execution_count": 27,
   "id": "beb6f34b-f347-4485-b3a8-421afc7d690b",
   "metadata": {},
   "outputs": [],
   "source": [
    "# test_data = \"/share/rcifdata/tmadula/External/data/quark_gluon_aug/QG_jets_aug_2.npz\"\n",
    "# test_data = np.load(test_data)"
   ]
  },
  {
   "cell_type": "code",
   "execution_count": 58,
   "id": "13e6737a-b2d3-4deb-bd7f-3a02a40e3bd5",
   "metadata": {
    "tags": []
   },
   "outputs": [],
   "source": [
    "# test_X = test_data[\"X\"]\n",
    "# test_y = test_data[\"y\"]\n",
    "# test_mask = np.where(test_X[:,:,0]==0, False, True)\n",
    "# test_X = test_X[:,:,4:8]\n",
    "# test_pdgid = test_data[\"X\"][:,:,3]\n",
    "# test_X_scaled = apply_scaling(test_X, train_mean, train_std, pdgid=test_pdgid)\n",
    "# os = test_pdgid.shape\n",
    "# test_pdig = ohe.transform(test_pdgid.reshape(-1,1)).toarray()\n",
    "# test_pdig = test_pdig.reshape(os[0], os[1], 14)\n",
    "\n",
    "test_X = X[nj:2*nj]\n",
    "test_Y = Y[nj:2*nj]\n",
    "test_mask = mask[nj:2*nj]\n",
    "test_X_cy = to_cylindrical(torch.tensor(test_X, dtype=torch.float32))\n",
    "test_jet_vars = get_jet_relvars(torch.tensor(test_X, dtype=torch.float32), test_X_cy)\n",
    "test_X_cy = torch.cat([test_X_cy,test_jet_vars], axis=2)\n",
    "\n",
    "test_data = JetDataset(test_X,test_Y, test_mask, test_X_cy)\n",
    "test_loader = DataLoader(\n",
    "    test_data,\n",
    "    batch_size=128,\n",
    "    shuffle=True\n",
    ")"
   ]
  },
  {
   "cell_type": "code",
   "execution_count": 46,
   "id": "2d77da4e-c40e-4623-ae86-28e88c1db90f",
   "metadata": {
    "tags": []
   },
   "outputs": [],
   "source": [
    "beta_max = np.linspace(0.64, 0.74, 1)"
   ]
  },
  {
   "cell_type": "code",
   "execution_count": 47,
   "id": "94378854-2aed-4926-a000-85a826f47bde",
   "metadata": {
    "tags": []
   },
   "outputs": [
    {
     "data": {
      "text/plain": [
       "array([0.64])"
      ]
     },
     "execution_count": 47,
     "metadata": {},
     "output_type": "execute_result"
    }
   ],
   "source": [
    "beta_max"
   ]
  },
  {
   "cell_type": "code",
   "execution_count": 51,
   "id": "c51c5900-ec91-4f20-9325-5a725312a932",
   "metadata": {
    "tags": []
   },
   "outputs": [],
   "source": [
    "def evaluate_model(model, dataloader, device='cpu', max_betas = [1.0]):\n",
    "    model.to(device)\n",
    "    model.eval()  # Set the model to evaluation mode\n",
    "\n",
    "    pred = []\n",
    "    true = []\n",
    "    boost_ = {mb: [] for mb in beta_max} \n",
    "    with torch.no_grad():  # Disable gradient calculation\n",
    "        for idx, batch in enumerate(dataloader):\n",
    "            X, y, mask, X_cy = batch\n",
    "            \n",
    "            X = X.to(device)\n",
    "            y = y.to(device)\n",
    "            mask = mask.to(device)\n",
    "            X_cy = X_cy.to(device)\n",
    "            outputs = model(X_cy, mask)  # Forward pass\n",
    "            pred.append(outputs)\n",
    "            true.append(y)\n",
    "\n",
    "            for mb in beta_max:\n",
    "                if idx ==0:\n",
    "                    print(f\"Max beta: {np.sqrt(mb)}\")\n",
    "                X_boost = boost_3d(X, device=device, beta_max=mb)\n",
    "                X_boost_cy = to_cylindrical(X_boost)\n",
    "                jet_vars = get_jet_relvars(X_boost, X_boost_cy)\n",
    "                X_boost_cy = torch.cat([X_boost_cy,jet_vars], axis=2)                         \n",
    "        \n",
    "                outputs_boost = model(X_boost_cy, mask)\n",
    "                boost_[mb].append(outputs_boost)\n",
    "    \n",
    "    model.to(\"cpu\")\n",
    "    for mb in beta_max:\n",
    "        boost_[mb] = torch.cat(boost_[mb])\n",
    "\n",
    "    return torch.cat(pred), boost_, torch.cat(true)"
   ]
  },
  {
   "cell_type": "code",
   "execution_count": 32,
   "id": "414fc541-47f0-4cf2-9d03-54758d113d8d",
   "metadata": {},
   "outputs": [
    {
     "name": "stdout",
     "output_type": "stream",
     "text": [
      "Max beta: 0.8\n",
      "Max beta: 0.8\n"
     ]
    }
   ],
   "source": []
  },
  {
   "cell_type": "code",
   "execution_count": 49,
   "id": "5f9c60f0-1950-4e8b-93b0-adc8a3a3ad45",
   "metadata": {
    "tags": []
   },
   "outputs": [],
   "source": [
    "from sklearn.metrics import roc_curve, auc, accuracy_score"
   ]
  },
  {
   "cell_type": "code",
   "execution_count": 57,
   "id": "8bc3758d-7395-46a0-ac66-feada22abc0e",
   "metadata": {
    "tags": []
   },
   "outputs": [],
   "source": [
    "def get_metrics(pred, true, boost, beta_max):\n",
    "    bm = {\"auc\": [], \"acc\": [], \"boost_auc\": [], \"boost_acc\":[] }\n",
    "    \n",
    "    fpr, tpr, threshold = roc_curve(true.cpu(), pred.cpu())\n",
    "    roc_auc = bm[\"auc\"].append(auc(fpr, tpr))\n",
    "    acc = accuracy_score(true.cpu(), (pred >= 0.5).int().cpu())\n",
    "    bm[\"acc\"].append(acc)\n",
    "    \n",
    "    for mb in beta_max:\n",
    "        fprb, tprb, _ = roc_curve(true.cpu(), boost[mb].cpu())\n",
    "        roc_aucb = auc(fprb, tprb)\n",
    "        accb = accuracy_score(true.cpu(), (boost[mb] >= 0.5).int().cpu())\n",
    "        bm[\"boost_auc\"].append(roc_aucb)\n",
    "        bm[\"boost_acc\"].append(accb)\n",
    "    return bm"
   ]
  },
  {
   "cell_type": "code",
   "execution_count": 59,
   "id": "f58e97e0-23f0-49fb-a997-683d2c4e7522",
   "metadata": {
    "tags": []
   },
   "outputs": [
    {
     "name": "stdout",
     "output_type": "stream",
     "text": [
      "Max beta: 0.8\n",
      "$\\lambda$ = 0.0: AUC =  0.9676186239806872,boosted AUC =  0.8511536742708647\n",
      "Max beta: 0.8\n",
      "$\\lambda$ = 100: AUC =  0.9652151529390623,boosted AUC =  0.8248405178227336\n",
      "Max beta: 0.8\n",
      "$\\lambda$ = 10000.0: AUC =  0.9640980977121965,boosted AUC =  0.8093850799307453\n"
     ]
    }
   ],
   "source": [
    "pred = {}\n",
    "boost = {}\n",
    "true = {}\n",
    "for lam_val in models.keys():\n",
    "    pred[lam_val], boost[lam_val], true[lam_val] = evaluate_model(model = models[lam_val], dataloader = test_loader, device=\"cuda\")\n",
    "#preds, boosts, trues = evaluate_model(model_symm, test_loader, device=\"cuda\")\n",
    "    bm = get_metrics(pred[lam_val], true[lam_val], boost[lam_val], beta_max)\n",
    "    print(rf\"$\\lambda$ = {lam_val}: AUC =  {bm['auc'][0]},boosted AUC =  {bm['boost_auc'][0]}\" )\n",
    "#sm = get_metrics(preds, trues, boosts, beta_max)"
   ]
  },
  {
   "cell_type": "code",
   "execution_count": 36,
   "id": "4df8da94-4c77-4fb8-9986-3ef190c1fc80",
   "metadata": {},
   "outputs": [
    {
     "name": "stdout",
     "output_type": "stream",
     "text": [
      "0.9681938442168747 0.8579840966935961\n",
      "0.966320260287782 0.8493448817095486\n"
     ]
    }
   ],
   "source": [
    "print(bm[\"auc\"][0],bm[\"boost_auc\"][0] )\n",
    "print(sm[\"auc\"][0], sm[\"boost_auc\"][0])"
   ]
  },
  {
   "cell_type": "code",
   "execution_count": 37,
   "id": "3d4b3643-ccba-420b-ade9-80a14b66f42d",
   "metadata": {},
   "outputs": [
    {
     "data": {
      "image/png": "[encoded data removed]",
      "text/plain": [
       "<Figure size 1200x400 with 6 Axes>"
      ]
     },
     "metadata": {},
     "output_type": "display_data"
    }
   ],
   "source": [
    "fig, ax = plt.subplots(1,3, figsize=(12,4))\n",
    "\n",
    "for lam_val in pred.keys():\n",
    "    fig, ax = plt.subplots(1,3, figsize=(12,4))\n",
    "    h1, xedges, yedges, img1= ax[0].hist2d(pred[0.0].cpu().numpy().flatten(), boost[0.0][0.64].cpu().numpy().flatten(), bins=50, norm=LogNorm())\n",
    "    h2, _, _, img2  = ax[1].hist2d(pred[lam_val].cpu().numpy().flatten(), boost[lam_val][0.64].cpu().numpy().flatten(), bins=50, norm=LogNorm());\n",
    "\n",
    "    hdiff = h2 - h1\n",
    "\n",
    "    img3= ax[2].imshow(hdiff.T, origin='lower', cmap='viridis', extent=[xedges[0], xedges[-1], yedges[0], yedges[-1]],  aspect='auto', norm=LogNorm())\n",
    "    ax[0].set_ylabel(\"$p_{Boost}$\", fontsize=15)\n",
    "    ax[0].set_xlabel(\"$p_{No Boost}$\", fontsize=15)\n",
    "    ax[1].set_xlabel(\"$p_{No Boost}$\", fontsize=15)\n",
    "    ax[2].set_xlabel(\"$p_{No Boost}$\", fontsize=15)\n",
    "\n",
    "    ax[0].set_title(\"Baseline\", fontsize=15)\n",
    "    ax[1].set_title(\"Symm Loss\", fontsize=15)\n",
    "    ax[2].set_title(\"Hist Difference\", fontsize=15)\n",
    "\n",
    "    fig.colorbar(img1, ax=ax[0], orientation='vertical')\n",
    "    fig.colorbar(img2, ax=ax[1], orientation='vertical')\n",
    "    fig.colorbar(img3, ax=ax[2], orientation='vertical')\n",
    "    plt.tight_layout()\n",
    "    plt.show()\n",
    "\n",
    "\n",
    "# plt.savefig(\"100k_with_symm_scatter_0.4.png\", dpi=150)"
   ]
  },
  {
   "cell_type": "code",
   "execution_count": 21,
   "id": "57b0531d-f72c-4534-84f0-e9d979f7a7ce",
   "metadata": {
    "tags": []
   },
   "outputs": [
    {
     "name": "stdout",
     "output_type": "stream",
     "text": [
      "Using cuda device\n"
     ]
    }
   ],
   "source": [
    "from symm_loss_defs import *"
   ]
  },
  {
   "cell_type": "code",
   "execution_count": 24,
   "id": "5b2f17c6-7c1f-4cf9-9642-869491cb3e36",
   "metadata": {
    "tags": []
   },
   "outputs": [
    {
     "name": "stdout",
     "output_type": "stream",
     "text": [
      "Using cuda device\n"
     ]
    }
   ],
   "source": [
    "filename = \"top_DeepSetdata_seed_0_train_seed_0\"\n",
    "with open(f\"./storage/{filename}.pkl\",\"rb\") as f:\n",
    "        a = pickle.load(f)\n"
   ]
  },
  {
   "cell_type": "code",
   "execution_count": 25,
   "id": "fe9f4756-91a4-4168-8d7e-b93e2753ddaf",
   "metadata": {
    "tags": []
   },
   "outputs": [
    {
     "data": {
      "text/plain": [
       "{0.0: {'Loss': [0.3605217601772219,\n",
       "   0.2769111197979448,\n",
       "   0.2611236354467691,\n",
       "   0.2501325265045908,\n",
       "   0.2434165649489712,\n",
       "   0.236995651204608,\n",
       "   0.23098414736736028,\n",
       "   0.22644971329394725,\n",
       "   0.224259519223181,\n",
       "   0.22276544561771677,\n",
       "   0.22153042427654032,\n",
       "   0.21928009206282323,\n",
       "   0.21915738615555308,\n",
       "   0.217703560052655,\n",
       "   0.2169008312657277],\n",
       "  'BCE': [0.3605217601772219,\n",
       "   0.2769111197979448,\n",
       "   0.2611236354467691,\n",
       "   0.2501325265045908,\n",
       "   0.2434165649489712,\n",
       "   0.236995651204608,\n",
       "   0.23098414736736028,\n",
       "   0.22644971329394725,\n",
       "   0.224259519223181,\n",
       "   0.22276544561771677,\n",
       "   0.22153042427654032,\n",
       "   0.21928009206282323,\n",
       "   0.21915738615555308,\n",
       "   0.217703560052655,\n",
       "   0.2169008312657277],\n",
       "  'Symm_Loss': [0.0010824581212969132,\n",
       "   0.0004232928939468724,\n",
       "   0.0005901066267394872,\n",
       "   0.0005346121591452209,\n",
       "   0.0013041504920722903,\n",
       "   0.0014252546329608668,\n",
       "   0.001827020861507282,\n",
       "   0.003272665981210467,\n",
       "   0.003203079755223302,\n",
       "   0.007008585970286502,\n",
       "   0.019438052806128536,\n",
       "   0.004301600412910321,\n",
       "   0.004136172631170296,\n",
       "   0.007451758243654976,\n",
       "   0.005923693882219947],\n",
       "  'beta': []},\n",
       " 0.1: {'Loss': [0.3605217601772219,\n",
       "   0.2769111197979448,\n",
       "   0.2611236354467691,\n",
       "   0.2501325265045908,\n",
       "   0.2434165649489712,\n",
       "   0.236995651204608,\n",
       "   0.23098414736736028,\n",
       "   0.22644971329394725,\n",
       "   0.224259519223181,\n",
       "   0.22276544561771677,\n",
       "   0.22153042427654032,\n",
       "   0.21928009206282323,\n",
       "   0.21915738615555308,\n",
       "   0.217703560052655,\n",
       "   0.2169008312657277],\n",
       "  'BCE': [0.3605217601772219,\n",
       "   0.2769111197979448,\n",
       "   0.2611236354467691,\n",
       "   0.2501325265045908,\n",
       "   0.2434165649489712,\n",
       "   0.236995651204608,\n",
       "   0.23098414736736028,\n",
       "   0.22644971329394725,\n",
       "   0.224259519223181,\n",
       "   0.22276544561771677,\n",
       "   0.22153042427654032,\n",
       "   0.21928009206282323,\n",
       "   0.21915738615555308,\n",
       "   0.217703560052655,\n",
       "   0.2169008312657277],\n",
       "  'Symm_Loss': [0.0010824581212969132,\n",
       "   0.0004232928939468724,\n",
       "   0.0005901066267394872,\n",
       "   0.0005346121591452209,\n",
       "   0.0013041504920722903,\n",
       "   0.0014252546329608668,\n",
       "   0.001827020861507282,\n",
       "   0.003272665981210467,\n",
       "   0.003203079755223302,\n",
       "   0.007008585970286502,\n",
       "   0.019438052806128536,\n",
       "   0.004301600412910321,\n",
       "   0.004136172631170296,\n",
       "   0.007451758243654976,\n",
       "   0.005923693882219947],\n",
       "  'beta': []},\n",
       " 1.0: {'Loss': [0.3605217601772219,\n",
       "   0.2769111197979448,\n",
       "   0.2611236354467691,\n",
       "   0.2501325265045908,\n",
       "   0.2434165649489712,\n",
       "   0.236995651204608,\n",
       "   0.23098414736736028,\n",
       "   0.22644971329394725,\n",
       "   0.224259519223181,\n",
       "   0.22276544561771677,\n",
       "   0.22153042427654032,\n",
       "   0.21928009206282323,\n",
       "   0.21915738615555308,\n",
       "   0.217703560052655,\n",
       "   0.2169008312657277],\n",
       "  'BCE': [0.3605217601772219,\n",
       "   0.2769111197979448,\n",
       "   0.2611236354467691,\n",
       "   0.2501325265045908,\n",
       "   0.2434165649489712,\n",
       "   0.236995651204608,\n",
       "   0.23098414736736028,\n",
       "   0.22644971329394725,\n",
       "   0.224259519223181,\n",
       "   0.22276544561771677,\n",
       "   0.22153042427654032,\n",
       "   0.21928009206282323,\n",
       "   0.21915738615555308,\n",
       "   0.217703560052655,\n",
       "   0.2169008312657277],\n",
       "  'Symm_Loss': [0.0010824581212969132,\n",
       "   0.0004232928939468724,\n",
       "   0.0005901066267394872,\n",
       "   0.0005346121591452209,\n",
       "   0.0013041504920722903,\n",
       "   0.0014252546329608668,\n",
       "   0.001827020861507282,\n",
       "   0.003272665981210467,\n",
       "   0.003203079755223302,\n",
       "   0.007008585970286502,\n",
       "   0.019438052806128536,\n",
       "   0.004301600412910321,\n",
       "   0.004136172631170296,\n",
       "   0.007451758243654976,\n",
       "   0.005923693882219947],\n",
       "  'beta': []},\n",
       " 10.0: {'Loss': [0.3605217601772219,\n",
       "   0.2769111197979448,\n",
       "   0.2611236354467691,\n",
       "   0.2501325265045908,\n",
       "   0.2434165649489712,\n",
       "   0.236995651204608,\n",
       "   0.23098414736736028,\n",
       "   0.22644971329394725,\n",
       "   0.224259519223181,\n",
       "   0.22276544561771677,\n",
       "   0.22153042427654032,\n",
       "   0.21928009206282323,\n",
       "   0.21915738615555308,\n",
       "   0.217703560052655,\n",
       "   0.2169008312657277],\n",
       "  'BCE': [0.3605217601772219,\n",
       "   0.2769111197979448,\n",
       "   0.2611236354467691,\n",
       "   0.2501325265045908,\n",
       "   0.2434165649489712,\n",
       "   0.236995651204608,\n",
       "   0.23098414736736028,\n",
       "   0.22644971329394725,\n",
       "   0.224259519223181,\n",
       "   0.22276544561771677,\n",
       "   0.22153042427654032,\n",
       "   0.21928009206282323,\n",
       "   0.21915738615555308,\n",
       "   0.217703560052655,\n",
       "   0.2169008312657277],\n",
       "  'Symm_Loss': [0.0010824581212969132,\n",
       "   0.0004232928939468724,\n",
       "   0.0005901066267394872,\n",
       "   0.0005346121591452209,\n",
       "   0.0013041504920722903,\n",
       "   0.0014252546329608668,\n",
       "   0.001827020861507282,\n",
       "   0.003272665981210467,\n",
       "   0.003203079755223302,\n",
       "   0.007008585970286502,\n",
       "   0.019438052806128536,\n",
       "   0.004301600412910321,\n",
       "   0.004136172631170296,\n",
       "   0.007451758243654976,\n",
       "   0.005923693882219947],\n",
       "  'beta': []},\n",
       " 100.0: {'Loss': [0.3605217601772219,\n",
       "   0.2769111197979448,\n",
       "   0.2611236354467691,\n",
       "   0.2501325265045908,\n",
       "   0.2434165649489712,\n",
       "   0.236995651204608,\n",
       "   0.23098414736736028,\n",
       "   0.22644971329394725,\n",
       "   0.224259519223181,\n",
       "   0.22276544561771677,\n",
       "   0.22153042427654032,\n",
       "   0.21928009206282323,\n",
       "   0.21915738615555308,\n",
       "   0.217703560052655,\n",
       "   0.2169008312657277],\n",
       "  'BCE': [0.3605217601772219,\n",
       "   0.2769111197979448,\n",
       "   0.2611236354467691,\n",
       "   0.2501325265045908,\n",
       "   0.2434165649489712,\n",
       "   0.236995651204608,\n",
       "   0.23098414736736028,\n",
       "   0.22644971329394725,\n",
       "   0.224259519223181,\n",
       "   0.22276544561771677,\n",
       "   0.22153042427654032,\n",
       "   0.21928009206282323,\n",
       "   0.21915738615555308,\n",
       "   0.217703560052655,\n",
       "   0.2169008312657277],\n",
       "  'Symm_Loss': [0.0010824581212969132,\n",
       "   0.0004232928939468724,\n",
       "   0.0005901066267394872,\n",
       "   0.0005346121591452209,\n",
       "   0.0013041504920722903,\n",
       "   0.0014252546329608668,\n",
       "   0.001827020861507282,\n",
       "   0.003272665981210467,\n",
       "   0.003203079755223302,\n",
       "   0.007008585970286502,\n",
       "   0.019438052806128536,\n",
       "   0.004301600412910321,\n",
       "   0.004136172631170296,\n",
       "   0.007451758243654976,\n",
       "   0.005923693882219947],\n",
       "  'beta': []},\n",
       " 1000.0: {'Loss': [0.3605217601772219,\n",
       "   0.2769111197979448,\n",
       "   0.2611236354467691,\n",
       "   0.2501325265045908,\n",
       "   0.2434165649489712,\n",
       "   0.236995651204608,\n",
       "   0.23098414736736028,\n",
       "   0.22644971329394725,\n",
       "   0.224259519223181,\n",
       "   0.22276544561771677,\n",
       "   0.22153042427654032,\n",
       "   0.21928009206282323,\n",
       "   0.21915738615555308,\n",
       "   0.217703560052655,\n",
       "   0.2169008312657277],\n",
       "  'BCE': [0.3605217601772219,\n",
       "   0.2769111197979448,\n",
       "   0.2611236354467691,\n",
       "   0.2501325265045908,\n",
       "   0.2434165649489712,\n",
       "   0.236995651204608,\n",
       "   0.23098414736736028,\n",
       "   0.22644971329394725,\n",
       "   0.224259519223181,\n",
       "   0.22276544561771677,\n",
       "   0.22153042427654032,\n",
       "   0.21928009206282323,\n",
       "   0.21915738615555308,\n",
       "   0.217703560052655,\n",
       "   0.2169008312657277],\n",
       "  'Symm_Loss': [0.0010824581212969132,\n",
       "   0.0004232928939468724,\n",
       "   0.0005901066267394872,\n",
       "   0.0005346121591452209,\n",
       "   0.0013041504920722903,\n",
       "   0.0014252546329608668,\n",
       "   0.001827020861507282,\n",
       "   0.003272665981210467,\n",
       "   0.003203079755223302,\n",
       "   0.007008585970286502,\n",
       "   0.019438052806128536,\n",
       "   0.004301600412910321,\n",
       "   0.004136172631170296,\n",
       "   0.007451758243654976,\n",
       "   0.005923693882219947],\n",
       "  'beta': []},\n",
       " 10000.0: {'Loss': [0.3605217601772219,\n",
       "   0.2769111197979448,\n",
       "   0.2611236354467691,\n",
       "   0.2501325265045908,\n",
       "   0.2434165649489712,\n",
       "   0.236995651204608,\n",
       "   0.23098414736736028,\n",
       "   0.22644971329394725,\n",
       "   0.224259519223181,\n",
       "   0.22276544561771677,\n",
       "   0.22153042427654032,\n",
       "   0.21928009206282323,\n",
       "   0.21915738615555308,\n",
       "   0.217703560052655,\n",
       "   0.2169008312657277],\n",
       "  'BCE': [0.3605217601772219,\n",
       "   0.2769111197979448,\n",
       "   0.2611236354467691,\n",
       "   0.2501325265045908,\n",
       "   0.2434165649489712,\n",
       "   0.236995651204608,\n",
       "   0.23098414736736028,\n",
       "   0.22644971329394725,\n",
       "   0.224259519223181,\n",
       "   0.22276544561771677,\n",
       "   0.22153042427654032,\n",
       "   0.21928009206282323,\n",
       "   0.21915738615555308,\n",
       "   0.217703560052655,\n",
       "   0.2169008312657277],\n",
       "  'Symm_Loss': [0.0010824581212969132,\n",
       "   0.0004232928939468724,\n",
       "   0.0005901066267394872,\n",
       "   0.0005346121591452209,\n",
       "   0.0013041504920722903,\n",
       "   0.0014252546329608668,\n",
       "   0.001827020861507282,\n",
       "   0.003272665981210467,\n",
       "   0.003203079755223302,\n",
       "   0.007008585970286502,\n",
       "   0.019438052806128536,\n",
       "   0.004301600412910321,\n",
       "   0.004136172631170296,\n",
       "   0.007451758243654976,\n",
       "   0.005923693882219947],\n",
       "  'beta': []}}"
      ]
     },
     "execution_count": 25,
     "metadata": {},
     "output_type": "execute_result"
    }
   ],
   "source": [
    "a.train_outputs"
   ]
  }
 ],
 "metadata": {
  "kernelspec": {
   "display_name": "pytorch-2.0.1",
   "language": "python",
   "name": "pytorch-2.0.1"
  },
  "language_info": {
   "codemirror_mode": {
    "name": "ipython",
    "version": 3
   },
   "file_extension": ".py",
   "mimetype": "text/x-python",
   "name": "python",
   "nbconvert_exporter": "python",
   "pygments_lexer": "ipython3",
   "version": "3.9.16"
  }
 },
 "nbformat": 4,
 "nbformat_minor": 5
}
