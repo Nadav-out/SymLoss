{
 "cells": [
  {
   "cell_type": "code",
   "execution_count": 1,
   "metadata": {
    "tags": []
   },
   "outputs": [],
   "source": [
    "import torch\n",
    "import torch.nn as nn\n",
    "import contextlib\n",
    "import warnings\n",
    "import math\n",
    "import numpy as np\n",
    "\n",
    "\n",
    "def get_jet_relvars_jv(four_vec, four_vec_cy, jet_four_vec_cy):\n",
    "    \n",
    "    pi = torch.tensor(math.pi)\n",
    "    # log(E)\n",
    "    log_E = torch.log(four_vec_cy[:,:,0])\n",
    "    \n",
    "    # log(pT)\n",
    "    log_pt = torch.log(four_vec_cy[:,:,1])\n",
    "    \n",
    "    # log(E_const/E_jet)\n",
    "    log_Er = torch.log((four_vec_cy[:,:,0]/jet_four_vec_cy[:,:,0]))\n",
    "\n",
    "    # log(pt_const/pt_jet)\n",
    "    log_ptr = torch.log((four_vec_cy[:,:,1]/jet_four_vec_cy[:,:,1]))\n",
    "\n",
    "    # dEta\n",
    "    dEta =  four_vec_cy[:,:,2] - jet_four_vec_cy[:,:,2]\n",
    "\n",
    "    # dPhi\n",
    "    dPhi =  four_vec_cy[:,:,3] - jet_four_vec_cy[:,:,3] \n",
    "    dPhi[dPhi>pi] -=  2*pi\n",
    "    dPhi[dPhi<= - pi] +=  2*pi\n",
    "\n",
    "    # dR\n",
    "    dR = torch.sqrt(dEta**2 + dPhi**2)\n",
    "\n",
    "    \n",
    "    # order of features [dEta, dPhi, log_R_pt, log_Pt, log_R_E, log_E, dR]\n",
    "    jet_features = torch.cat([\n",
    "        dEta.unsqueeze(-1), \n",
    "        dPhi.unsqueeze(-1),\n",
    "        log_ptr.unsqueeze(-1),\n",
    "        log_pt.unsqueeze(-1),\n",
    "        log_Er.unsqueeze(-1),\n",
    "        log_E.unsqueeze(-1),\n",
    "        dR.unsqueeze(-1)\n",
    "    ], axis=2)\n",
    "\n",
    "    zero_mask = (four_vec == 0.0).any(dim=-1, keepdim=True)\n",
    "    zero_mask = zero_mask.expand_as(jet_features)\n",
    "    jet_features[zero_mask] = 0.0\n",
    "    \n",
    "    return jet_features\n",
    "\n",
    "def inverse_jet_relvars_to_cartesian(jet_features, jet_four_vec_cy):\n",
    "    \"\"\"\n",
    "    Reconstruct four_vec (Cartesian 4-vector) from jet_features and jet_four_vec_cy.\n",
    "    \"\"\"\n",
    "    # Extract components from jet_features\n",
    "    dEta = jet_features[:,:,0]\n",
    "    dPhi = jet_features[:,:,1]\n",
    "    log_ptr = jet_features[:,:,2]\n",
    "    log_pt = jet_features[:,:,3]\n",
    "    log_Er = jet_features[:,:,4]\n",
    "    log_E = jet_features[:,:,5]\n",
    "    \n",
    "    # Extract components from jet_four_vec_cy (which are in regular E, pT, eta, phi)\n",
    "    E_jet = jet_four_vec_cy[:,:,0]\n",
    "    pT_jet = jet_four_vec_cy[:,:,1]\n",
    "    eta_jet = jet_four_vec_cy[:,:,2]\n",
    "    phi_jet = jet_four_vec_cy[:,:,3]\n",
    "\n",
    "    # Reconstruct cylindrical coordinates\n",
    "    eta = eta_jet + dEta\n",
    "    phi = phi_jet + dPhi\n",
    "    phi = torch.remainder(phi + math.pi, 2 * math.pi) - math.pi  # Ensure phi is in [-pi, pi]\n",
    "    \n",
    "    # Reconstruct E and pT from their log ratios\n",
    "    E_const = E_jet * torch.exp(log_Er)\n",
    "    pT_const = pT_jet * torch.exp(log_ptr)\n",
    "\n",
    "    # Convert cylindrical coordinates back to Cartesian\n",
    "    px = pT_const * torch.cos(phi)\n",
    "    py = pT_const * torch.sin(phi)\n",
    "    pz = pT_const * torch.sinh(eta)\n",
    "\n",
    "    # Stack components into a Cartesian 4-vector\n",
    "    four_vec = torch.stack([E_const, px, py, pz], dim=-1)  # Shape [B, N, 4]\n",
    "    \n",
    "    return four_vec\n",
    "\n",
    "\n",
    "def to_cylindrical(four_vec, log=True):\n",
    "    E = four_vec[:,:,0]\n",
    "    px = four_vec[:,:,1]\n",
    "    py = four_vec[:,:,2]\n",
    "    pz = four_vec[:,:,3]\n",
    "    pt = torch.sqrt(px*px + py*py)\n",
    "    phi = torch.arctan2(py,px)\n",
    "    eta = torch.arcsinh(pz/pt)\n",
    "\n",
    "    if log:\n",
    "        cylindrical_four_vec = torch.cat([\n",
    "            torch.log(E.unsqueeze(-1)),\n",
    "            torch.log(pt.unsqueeze(-1)), \n",
    "            eta.unsqueeze(-1),\n",
    "            phi.unsqueeze(-1)\n",
    "        ], axis=2)\n",
    "\n",
    "        cylindrical_four_vec = torch.where(cylindrical_four_vec < -1e30, 0, cylindrical_four_vec)\n",
    "    else:\n",
    "        cylindrical_four_vec = torch.cat([E.unsqueeze(-1),pt.unsqueeze(-1), eta.unsqueeze(-1),phi.unsqueeze(-1)], axis=2)\n",
    "\n",
    "    \n",
    "    return torch.nan_to_num(cylindrical_four_vec)\n",
    "\n",
    "\n",
    "def create_transformation_dict(cartesian_features):\n",
    "    # Converts Cartesian coordinates to cylindrical and returns a transformation dict\n",
    "    # cartesian_features shape [B, N, 4]\n",
    "    logE, logPt, eta, phi = to_cylindrical(cartesian_features, log=True).unbind(dim=2)\n",
    "    \n",
    "    # Intermediate quantities, shape [B, N]\n",
    "    sin_phi = torch.sin(phi) \n",
    "    cos_phi = torch.cos(phi) \n",
    "    sinh_eta = torch.sinh(eta)\n",
    "    cosh_eta = torch.cosh(eta)\n",
    "    lamb = torch.exp(logE - logPt)\n",
    "    zeros = torch.zeros_like(logE)\n",
    "    ones = torch.ones_like(logE)\n",
    "    \n",
    "    # Create and return the transformation dictionary\n",
    "    # Each key corresponds to a different coordinate\n",
    "    # Each value is a tensor of shape [B, N, 6]\n",
    "    trans_dict = {}\n",
    "    trans_dict['logE'] = torch.stack([zeros]*3 + [cos_phi/lamb, sin_phi/lamb, sinh_eta/lamb], dim=2)\n",
    "    trans_dict['logPt'] = torch.stack([-sin_phi*sinh_eta, cos_phi*sinh_eta, zeros, cos_phi*lamb, sin_phi*lamb, zeros], dim=2)\n",
    "    trans_dict['eta'] = torch.stack([cosh_eta*sin_phi, -cosh_eta*cos_phi, zeros, -lamb*cos_phi*sinh_eta/cosh_eta, -lamb*sin_phi*sinh_eta/cosh_eta, lamb/cosh_eta], dim=2)\n",
    "    trans_dict['phi'] = torch.stack([-cos_phi*sinh_eta, -sin_phi*sinh_eta, ones, -lamb*sin_phi, lamb*cos_phi, zeros], dim=2)\n",
    "    return trans_dict\n",
    "\n",
    "def symm_loss_scalar7(model, X, X_cartesian, jet_vec, mask=None, train=False, generators=None):\n",
    "    # generator should be a list of 6 boolian values, indicating which of the 6 Lorentz generators to use\n",
    "     # Check if generators is a list of boolean values\n",
    "    if generators is not None:\n",
    "        if not isinstance(generators, list) or len(generators) != 6 or not all(isinstance(g, bool) for g in generators):\n",
    "            warnings.warn(\"Invalid 'generators'. Expected a list of 6 boolean values. Continuing with 'generators=None'.\")\n",
    "            generators = None\n",
    "    \n",
    "    device = X.device\n",
    "    \n",
    "    model = model.to(device) # Probably not necessary, I assume the model is already on the correct device\n",
    "    \n",
    "\n",
    "    # Create transformation dict for particles and jets\n",
    "    trans_dict = create_transformation_dict(X_cartesian)\n",
    "    trans_dict_jet = create_transformation_dict(jet_vec)\n",
    "    \n",
    "    # Prepare input\n",
    "    input = X.clone().detach().requires_grad_(True).to(device)\n",
    "    model.eval()\n",
    "    output = model(input, mask)  # [B]\n",
    "    \n",
    "    # Compute gradients\n",
    "    grads, = torch.autograd.grad(\n",
    "        outputs=output, \n",
    "        inputs=input, \n",
    "        grad_outputs=torch.ones_like(output, device=device), \n",
    "        create_graph=train\n",
    "    )\n",
    "    \n",
    "    \n",
    "    with contextlib.nullcontext() if train else torch.no_grad():\n",
    "        # Build the variation tensor [B,6]\n",
    "        var_tensor = torch.einsum('b n, b n k -> b k',grads[:,:,0], (trans_dict['eta'] - trans_dict_jet['eta']))\n",
    "        var_tensor += torch.einsum('b n, b n k -> b k',grads[:,:,1], (trans_dict['phi'] - trans_dict_jet['phi']))\n",
    "        var_tensor += torch.einsum('b n, b n k -> b k',grads[:,:,2], (trans_dict['logPt'] - trans_dict_jet['logPt']))\n",
    "        var_tensor += torch.einsum('b n, b n k -> b k',grads[:,:,3], trans_dict['logPt'])\n",
    "        var_tensor += torch.einsum('b n, b n k -> b k',grads[:,:,4], (trans_dict['logE'] - trans_dict_jet['logE']))\n",
    "        var_tensor += torch.einsum('b n, b n k -> b k',grads[:,:,5], trans_dict['logE'])\n",
    "        \n",
    "        # delta R calculation (K_tensor)\n",
    "        K_tensor = (input[:,:,0].unsqueeze(-1) * (trans_dict['eta'] - trans_dict_jet['eta']))\n",
    "        K_tensor += (input[:,:,1].unsqueeze(-1) * (trans_dict['phi'] - trans_dict_jet['phi']))\n",
    "        K_tensor /= input[:,:,6].unsqueeze(-1)+1e-10 # Avoid division by zero\n",
    "        var_tensor += torch.einsum('b n, b n k -> b k',grads[:,:,6], K_tensor)\n",
    "\n",
    "\n",
    "        # Apply generators mask if provided\n",
    "        if generators is not None:\n",
    "            generators_tensor = torch.tensor(generators, dtype=torch.bool, device=device).unsqueeze(0)  # [1, 6]\n",
    "            var_tensor = torch.where(generators_tensor, var_tensor, torch.zeros_like(var_tensor))\n",
    "\n",
    "        \n",
    "        # Compute the loss\n",
    "        loss = torch.norm(var_tensor, p=2, dim=1)**2\n",
    "        return loss.mean()\n",
    "\n",
    "\n",
    "\n"
   ]
  },
  {
   "cell_type": "code",
   "execution_count": 7,
   "metadata": {
    "tags": []
   },
   "outputs": [],
   "source": [
    "loss = nn.MSELoss(reduction = 'sum')\n",
    "input = torch.randn(3, 5, requires_grad=True)\n",
    "target = torch.randn(3, 5)\n",
    "output = loss(input, target)\n",
    "output.backward()"
   ]
  },
  {
   "cell_type": "code",
   "execution_count": 8,
   "metadata": {
    "tags": []
   },
   "outputs": [
    {
     "data": {
      "text/plain": [
       "tensor(26.0591, grad_fn=<MseLossBackward0>)"
      ]
     },
     "execution_count": 8,
     "metadata": {},
     "output_type": "execute_result"
    }
   ],
   "source": [
    "output"
   ]
  },
  {
   "cell_type": "code",
   "execution_count": 2,
   "metadata": {
    "tags": []
   },
   "outputs": [],
   "source": [
    "# Simulated dataset for massless 4-vectors\n",
    "B, N = 126, 20  # Batch size, number of particles\n",
    "\n",
    "# Random momentum vectors\n",
    "p = torch.randn(B, N, 3)\n",
    "\n",
    "# Compute energy E = sqrt(px^2 + py^2 + pz^2) to make the 4-vector massless\n",
    "E = p.norm(dim=-1)\n",
    "\n",
    "# Stack E and p into a 4-vector\n",
    "four_vec = torch.cat([E.unsqueeze(-1), p], dim=-1)  # Shape [B, N, 4]\n",
    "# four_vec = torch.stack([E, px, py, pz], dim=-1)  # Shape [B, N, 4]\n",
    "\n",
    "# Convert to cylindrical coordinates\n",
    "four_vec_cy = to_cylindrical(four_vec, log=False)\n",
    "\n",
    "# Compute the jet 4-vector as the sum over N particles\n",
    "jet_vec = torch.sum(four_vec, dim=1, keepdim=True)  # Shape [B, 1, 4]\n",
    "\n",
    "# Convert jet vector to cylindrical coordinates\n",
    "jet_four_vec_cy = to_cylindrical(jet_vec, log=False)\n"
   ]
  },
  {
   "cell_type": "code",
   "execution_count": 278,
   "metadata": {},
   "outputs": [
    {
     "name": "stdout",
     "output_type": "stream",
     "text": [
      "Are the reconstructed 4-vectors the same as the original 4-vectors? True\n"
     ]
    }
   ],
   "source": [
    "jet_features = get_jet_relvars_jv(four_vec, four_vec_cy, jet_four_vec_cy)\n",
    "\n",
    "# test the conversion back to 4-vectors\n",
    "reconstructed_four_vec = inverse_jet_relvars_to_cartesian(jet_features, jet_four_vec_cy)\n",
    "# check if the reconstructed 4-vectors are the same as the original 4-vectors\n",
    "print(f'Are the reconstructed 4-vectors the same as the original 4-vectors? {torch.allclose(four_vec, reconstructed_four_vec, atol=1e-5)}')\n"
   ]
  },
  {
   "cell_type": "code",
   "execution_count": 279,
   "metadata": {},
   "outputs": [],
   "source": [
    "class DummyModel(nn.Module):\n",
    "    def forward(self, input, mask=None):\n",
    "        # Simple model: sum over all particles and features\n",
    "        return torch.sum(input, dim=[1, 2])  # Output shape [B]\n",
    "\n",
    "class DummyModel2(nn.Module):\n",
    "    \"\"\"\n",
    "    This model uses inverse_jet_relvars_to_cartesian(input, self.jet_four_vec_cy)\n",
    "    to reconstruct 4-vectors, then calculates a Lorentz invariant scalar.\n",
    "    Specifically:\n",
    "    - Calculates jet mass using the Minkowski metric from the sum of 4-vectors (jet 4-vector).\n",
    "    - Calculates the sum of (4-dot product of jet and particle 4-vectors)^2.\n",
    "    \"\"\"\n",
    "    def __init__(self, jet_four_vec_cy):\n",
    "        super(DummyModel2, self).__init__()\n",
    "        self.jet_four_vec_cy = jet_four_vec_cy\n",
    "        self.mink_metric = torch.tensor([1, -1, -1, -1], dtype=torch.float32)  # Minkowski metric [1, -1, -1, -1]\n",
    "\n",
    "    def forward(self, input, mask=None):\n",
    "        # Reconstruct the particle 4-vectors from input and jet cylindrical vector\n",
    "        four_vec = inverse_jet_relvars_to_cartesian(input, self.jet_four_vec_cy)  # Shape [B, N, 4]\n",
    "\n",
    "        # Compute the jet 4-vector as the sum over particles (Cartesian 4-vector)\n",
    "        jet_vec = torch.sum(four_vec, dim=1, keepdim=True)  # Shape [B, 1, 4]\n",
    "\n",
    "        # Calculate the jet mass using Minkowski metric: jet_mass^2 = E^2 - p_x^2 - p_y^2 - p_z^2\n",
    "        jet_mass_sq = torch.sum(jet_vec * jet_vec * self.mink_metric, dim=2).squeeze(1)  # Shape [B]\n",
    "        \n",
    "        \n",
    "\n",
    "        # Calculate the dot product of each particle's 4-vector with the jet 4-vector\n",
    "        dot_product = torch.sum(four_vec * jet_vec * self.mink_metric, dim=2)  # Shape [B, N]\n",
    "\n",
    "        # Sum of squared dot products\n",
    "        dot_product_sum = torch.mean(dot_product ** 2, dim=1)  # Shape [B]\n",
    "\n",
    "        # Return jet mass (broadcasted to [B]) + sum of squared dot products\n",
    "        return dot_product_sum #jet_mass_sq"
   ]
  },
  {
   "cell_type": "code",
   "execution_count": 280,
   "metadata": {},
   "outputs": [],
   "source": [
    "model = DummyModel2(jet_four_vec_cy)\n",
    "loss = symm_loss_scalar7(model, jet_features, four_vec_cy, jet_vec)"
   ]
  },
  {
   "cell_type": "code",
   "execution_count": 281,
   "metadata": {},
   "outputs": [
    {
     "name": "stdout",
     "output_type": "stream",
     "text": [
      "[True, False, False, False, False, False] 12920633.0\n",
      "[False, True, False, False, False, False] 48626032.0\n",
      "[False, False, True, False, False, False] 0.0\n",
      "[False, False, False, True, False, False] 1717492736.0\n",
      "[False, False, False, False, True, False] 388343200.0\n",
      "[False, False, False, False, False, True] 23837744.0\n"
     ]
    }
   ],
   "source": [
    "for n in range(6):\n",
    "    \n",
    "    generators = [False]*n+[True]+[False]*(5-n)\n",
    "    print(generators,symm_loss_scalar7(model, jet_features, four_vec_cy, jet_vec, generators=generators).item())\n",
    "    "
   ]
  },
  {
   "cell_type": "code",
   "execution_count": 282,
   "metadata": {},
   "outputs": [
    {
     "data": {
      "text/plain": [
       "tensor([[-2.0082e-08,  0.0000e+00, -1.1176e-08,  ..., -1.8626e-07,\n",
       "         -1.4901e-07,  0.0000e+00],\n",
       "        [ 1.7881e-07, -2.9802e-08,  1.4901e-07,  ...,  0.0000e+00,\n",
       "         -2.3842e-07, -1.1176e-08],\n",
       "        [-2.9802e-08, -5.9605e-08,  0.0000e+00,  ...,  1.1921e-07,\n",
       "          9.6858e-08, -2.3842e-07],\n",
       "        ...,\n",
       "        [-2.3842e-07,  0.0000e+00,  1.4901e-08,  ...,  4.4703e-08,\n",
       "         -1.6764e-07,  5.9605e-08],\n",
       "        [ 2.3842e-07,  8.1956e-08,  0.0000e+00,  ..., -5.9605e-08,\n",
       "          1.6391e-07,  1.4901e-07],\n",
       "        [ 1.9372e-07, -4.6566e-09, -1.7881e-07,  ...,  1.8626e-08,\n",
       "          8.9407e-08,  1.1921e-07]])"
      ]
     },
     "execution_count": 282,
     "metadata": {},
     "output_type": "execute_result"
    }
   ],
   "source": [
    "(four_vec*four_vec*torch.tensor([1, -1, -1, -1])).sum(dim=2)"
   ]
  },
  {
   "cell_type": "code",
   "execution_count": 284,
   "metadata": {},
   "outputs": [],
   "source": [
    "class ContivedModel(nn.Module):\n",
    "    \"\"\"\n",
    "    This model uses inverse_jet_relvars_to_cartesian(input, self.jet_four_vec_cy)\n",
    "    to reconstruct 4-vectors, then calculates a Lorentz invariant scalar.\n",
    "    Specifically:\n",
    "    - Calculates jet mass using the Minkowski metric from the sum of 4-vectors (jet 4-vector).\n",
    "    - Calculates the sum of (4-dot product of jet and particle 4-vectors)^2.\n",
    "    \"\"\"\n",
    "    def __init__(self):\n",
    "        super(ContivedModel, self).__init__()\n",
    "        self.mink_metric = torch.tensor([1, -1, -1, -1], dtype=torch.float32)  # Minkowski metric [1, -1, -1, -1]\n",
    "\n",
    "    def forward(self, x, mask=None):\n",
    "        # input is shape [B, N, 4], where the last dimension is [E, px, py, pz]\n",
    "        # input is the version of x that requires grad\n",
    "        input = x.clone().detach().requires_grad_(True)\n",
    "        \n",
    "        # Jet 4-vector is the sum of all particles\n",
    "        jet_vec = torch.sum(input, dim=1, keepdim=True)\n",
    "\n",
    "        # Calculate the jet mass, this is going to be the output.\n",
    "        jet_mass_sq = torch.einsum('...n,n->...', jet_vec * jet_vec, self.mink_metric).squeeze(1)\n",
    "\n",
    "        # convert input and jet_vec to cylindrical coordinates, and get the 7 features for each particle\n",
    "        input_cy = to_cylindrical(input, log=False)\n",
    "        jet_vec_cy = to_cylindrical(jet_vec, log=False)\n",
    "        jet_features = get_jet_relvars_jv(input, input_cy, jet_vec_cy) # Shape [B, N, 7]\n",
    "        \n",
    "\n",
    "        # get gradients of both outputs and features with respect to input\n",
    "        grads_output, = torch.autograd.grad(\n",
    "            outputs=jet_mass_sq,\n",
    "            inputs=input,\n",
    "            grad_outputs=torch.ones_like(jet_mass_sq),\n",
    "            create_graph=False\n",
    "        )\n",
    "        \n",
    "        # Compute the gradient of each feature w.r.t. each particle's 4-vector.\n",
    "        B, N, _ = input.shape\n",
    "        grads_features = torch.zeros(B, N, 7, N, 4, device=input.device)\n",
    "\n",
    "        # Loop through each particle's features (loop only over N and 7)\n",
    "        for n in range(N):\n",
    "            for feature_idx in range(7):\n",
    "                # Get the single scalar feature for particle n, feature_idx\n",
    "                feature = jet_features[:, n, feature_idx]  # Shape [B]\n",
    "                \n",
    "                # Compute the gradient of this feature w.r.t. the input\n",
    "                grad_feature, = torch.autograd.grad(\n",
    "                    outputs=feature,\n",
    "                    inputs=input,\n",
    "                    grad_outputs=torch.ones_like(feature),\n",
    "                    retain_graph=True,\n",
    "                    create_graph=True\n",
    "                )\n",
    "                \n",
    "                # Store the gradient [B, N, 4] for each feature in grads_features\n",
    "                grads_features[:, n, feature_idx] = grad_feature\n",
    "\n",
    "        return jet_mass_sq, jet_features, grads_output, grads_features\n",
    "\n"
   ]
  },
  {
   "cell_type": "code",
   "execution_count": 285,
   "metadata": {},
   "outputs": [],
   "source": [
    "import torch\n",
    "\n",
    "class ContivedModel(torch.nn.Module):\n",
    "    def __init__(self):\n",
    "        super(ContivedModel, self).__init__()\n",
    "        self.mink_metric = torch.tensor([1, -1, -1, -1], dtype=torch.float32)\n",
    "\n",
    "    def forward(self, x, mask=None):\n",
    "        input = x.clone().detach().requires_grad_(True)\n",
    "\n",
    "        # Jet 4-vector is the sum of all particles\n",
    "        jet_vec = torch.sum(input, dim=1, keepdim=True)\n",
    "\n",
    "        # Calculate the jet mass, this is going to be the output.\n",
    "        jet_mass_sq = torch.einsum('...n,n->...', jet_vec * jet_vec, self.mink_metric).squeeze(1)\n",
    "\n",
    "        # Convert input and jet_vec to cylindrical coordinates, and get the 7 features for each particle\n",
    "        input_cy = to_cylindrical(input, log=False)\n",
    "        jet_vec_cy = to_cylindrical(jet_vec, log=False)\n",
    "        jet_features = get_jet_relvars_jv(input, input_cy, jet_vec_cy)  # Shape [B, N, 7]\n",
    "\n",
    "        # Get gradients of jet mass w.r.t. input (shape [B, N, 4])\n",
    "        grads_output, = torch.autograd.grad(\n",
    "            outputs=jet_mass_sq,\n",
    "            inputs=input,\n",
    "            grad_outputs=torch.ones_like(jet_mass_sq),\n",
    "            create_graph=True\n",
    "        )\n",
    "\n",
    "        # Compute the gradient of each feature w.r.t. each particle's 4-vector\n",
    "        B, N, _ = input.shape\n",
    "        grads_features_wrt_input = torch.zeros(B, N, 7, N, 4, device=input.device)\n",
    "\n",
    "        # Loop through each particle's features (loop only over N and 7)\n",
    "        for n in range(N):\n",
    "            for feature_idx in range(7):\n",
    "                # Get the single scalar feature for particle n, feature_idx\n",
    "                feature = jet_features[:, n, feature_idx]  # Shape [B]\n",
    "                \n",
    "                # Compute the gradient of this feature w.r.t. the input\n",
    "                grad_feature, = torch.autograd.grad(\n",
    "                    outputs=feature,\n",
    "                    inputs=input,\n",
    "                    grad_outputs=torch.ones_like(feature),\n",
    "                    retain_graph=True,\n",
    "                    create_graph=True\n",
    "                )\n",
    "                \n",
    "                # Store the gradient [B, N, 4] for each feature in grads_features_wrt_input\n",
    "                grads_features_wrt_input[:, n, feature_idx] = grad_feature\n",
    "\n",
    "        # Reshape and transpose for matrix multiplication\n",
    "        # Flatten grads_output to [B, 4*N]\n",
    "        grads_output_flat = grads_output.reshape(B, 4 * N)  # [B, 4*N]\n",
    "        \n",
    "        # Flatten grads_features_wrt_input to [B, 4*N, 7*N] by using view and transpose\n",
    "        grads_features_wrt_input_flat = grads_features_wrt_input.view(B, 7 * N, 4 * N).transpose(1, 2)\n",
    "\n",
    "        # Compute the pseudo-inverse of the Jacobian\n",
    "        dJetMassSq_dFeatures = torch.zeros(B, 7 * N, device=input.device)\n",
    "        \n",
    "        for b in range(B):\n",
    "            # Compute the pseudo-inverse for each batch\n",
    "            pseudo_inv = torch.pinverse(grads_features_wrt_input_flat[b])  # [7*N, 4*N]\n",
    "\n",
    "            # Multiply the pseudo-inverse with the flattened grads_output\n",
    "            dJetMassSq_dFeatures[b] = torch.matmul(pseudo_inv, grads_output_flat[b])\n",
    "\n",
    "        # Reshape the result back to [B, N, 7] (particle and feature dimensions)\n",
    "        dJetMassSq_dFeatures = dJetMassSq_dFeatures.view(B, N, 7)\n",
    "\n",
    "        return jet_mass_sq.detach(), jet_features.detach(), jet_vec.detach(), dJetMassSq_dFeatures.detach()\n"
   ]
  },
  {
   "cell_type": "code",
   "execution_count": 286,
   "metadata": {},
   "outputs": [],
   "source": [
    "model = ContivedModel()\n",
    "jet_mass_sq, jet_features, jet_vec, dJetMassSq_dFeatures = model(four_vec)\n",
    "# grads_output.shape, grads_features_wrt_input.shape, dJetMassSq_dFeatures.shape"
   ]
  },
  {
   "cell_type": "code",
   "execution_count": 53,
   "metadata": {
    "tags": []
   },
   "outputs": [],
   "source": [
    "def create_transformation_dict(cartesian_features):\n",
    "    # Converts Cartesian coordinates to cylindrical and returns a transformation dict\n",
    "    # cartesian_features shape [B, N, 4]\n",
    "    logE, logPt, eta, phi = to_cylindrical(cartesian_features, log=True).unbind(dim=2)\n",
    "    \n",
    "    # Intermediate quantities, shape [B, N]\n",
    "    sin_phi = torch.sin(phi) \n",
    "    cos_phi = torch.cos(phi) \n",
    "    sinh_eta = torch.sinh(eta)\n",
    "    cosh_eta = torch.cosh(eta)\n",
    "    lamb = torch.exp(logE - logPt)\n",
    "    zeros = torch.zeros_like(logE)\n",
    "    ones = torch.ones_like(logE)\n",
    "    \n",
    "    # Create and return the transformation dictionary\n",
    "    # Each key corresponds to a different coordinate\n",
    "    # Each value is a tensor of shape [B, N, 6]\n",
    "    trans_dict = {}\n",
    "    trans_dict['logE'] = torch.stack([zeros]*3 + [cos_phi/lamb, sin_phi/lamb, sinh_eta/lamb], dim=2)\n",
    "    trans_dict['logPt'] = torch.stack([sin_phi*sinh_eta, -cos_phi*sinh_eta, zeros, lamb*cos_phi, lamb*sin_phi, zeros], dim=2)\n",
    "    trans_dict['eta'] = torch.stack([-cosh_eta*sin_phi, cosh_eta*cos_phi, zeros, -lamb*cos_phi*sinh_eta/cosh_eta, -lamb*sin_phi*sinh_eta/cosh_eta, lamb/cosh_eta], dim=2)\n",
    "    trans_dict['phi'] = torch.stack([cos_phi*sinh_eta, sin_phi*sinh_eta, -ones, -lamb*sin_phi, lamb*cos_phi, zeros], dim=2)\n",
    "    return trans_dict\n"
   ]
  },
  {
   "attachments": {
    "image-2.png": {
     "image/png": "[encoded data removed]"
    }
   },
   "cell_type": "markdown",
   "metadata": {},
   "source": [
    "![image-2.png](attachment:image-2.png)"
   ]
  },
  {
   "cell_type": "code",
   "execution_count": 39,
   "metadata": {
    "tags": []
   },
   "outputs": [],
   "source": [
    "def symm_loss_scalar7_debug(grads, X7, X_cartesian, jet_vec, generators=None, train=False):\n",
    "    # generator should be a list of 6 boolian values, indicating which of the 6 Lorentz generators to use\n",
    "     # Check if generators is a list of boolean values\n",
    "    if generators is not None:\n",
    "        if not isinstance(generators, list) or len(generators) != 6 or not all(isinstance(g, bool) for g in generators):\n",
    "            warnings.warn(\"Invalid 'generators'. Expected a list of 6 boolean values. Continuing with 'generators=None'.\")\n",
    "            generators = None\n",
    "    \n",
    "    device = X7.device\n",
    "    \n",
    "    \n",
    "\n",
    "    # Create transformation dict for particles and jets\n",
    "    trans_dict = create_transformation_dict(X_cartesian)\n",
    "    trans_dict_jet = create_transformation_dict(jet_vec)\n",
    "    \n",
    "    \n",
    "    \n",
    "    with contextlib.nullcontext() if train else torch.no_grad():\n",
    "        # Build the variation tensor [B,6]\n",
    "        var_tensor = torch.einsum('b n, b n k -> b k',grads[:,:,0], (trans_dict['eta'] - trans_dict_jet['eta']))\n",
    "        var_tensor += torch.einsum('b n, b n k -> b k',grads[:,:,1], (trans_dict['phi'] - trans_dict_jet['phi']))\n",
    "        var_tensor += torch.einsum('b n, b n k -> b k',grads[:,:,2], (trans_dict['logPt'] - trans_dict_jet['logPt']))\n",
    "        var_tensor += torch.einsum('b n, b n k -> b k',grads[:,:,3], trans_dict['logPt'])\n",
    "        var_tensor += torch.einsum('b n, b n k -> b k',grads[:,:,4], (trans_dict['logE'] - trans_dict_jet['logE']))\n",
    "        var_tensor += torch.einsum('b n, b n k -> b k',grads[:,:,5], trans_dict['logE'])\n",
    "        \n",
    "        # delta R calculation (K_tensor)\n",
    "        K_tensor = (X7[:,:,0].unsqueeze(-1) * (trans_dict['eta'] - trans_dict_jet['eta']))\n",
    "        K_tensor += (X7[:,:,1].unsqueeze(-1) * (trans_dict['phi'] - trans_dict_jet['phi']))\n",
    "        K_tensor /= X7[:,:,6].unsqueeze(-1)+1e-10 # Avoid division by zero\n",
    "        var_tensor += torch.einsum('b n, b n k -> b k',grads[:,:,6], K_tensor)\n",
    "\n",
    "\n",
    "        # Apply generators mask if provided\n",
    "        if generators is not None:\n",
    "            generators_tensor = torch.tensor(generators, dtype=torch.bool, device=device).unsqueeze(0)  # [1, 6]\n",
    "            var_tensor = torch.where(generators_tensor, var_tensor, torch.zeros_like(var_tensor))\n",
    "\n",
    "        \n",
    "        # Compute the loss\n",
    "        loss = torch.norm(var_tensor, p=2, dim=1)**2\n",
    "        return loss.mean()\n",
    "\n"
   ]
  },
  {
   "cell_type": "code",
   "execution_count": 301,
   "metadata": {},
   "outputs": [
    {
     "name": "stdout",
     "output_type": "stream",
     "text": [
      "[True, False, False, False, False, False] 0.8026242256164551\n",
      "[False, True, False, False, False, False] 1.1303021907806396\n",
      "[False, False, True, False, False, False] 0.0\n",
      "[False, False, False, True, False, False] 11.569864273071289\n",
      "[False, False, False, False, True, False] 3.887751579284668\n",
      "[False, False, False, False, False, True] 0.6029816269874573\n"
     ]
    }
   ],
   "source": [
    "model = ContivedModel()\n",
    "jet_mass_sq, jet_features, jet_vec, dJetMassSq_dFeatures = model(four_vec)\n",
    "for n in range(6):\n",
    "    \n",
    "    generators = [False]*n+[True]+[False]*(5-n)\n",
    "    \n",
    "    print(generators,symm_loss_scalar7_debug(dJetMassSq_dFeatures, jet_features, four_vec, jet_vec, generators=generators).item())"
   ]
  },
  {
   "cell_type": "code",
   "execution_count": 289,
   "metadata": {},
   "outputs": [
    {
     "data": {
      "text/plain": [
       "tensor(17.9935)"
      ]
     },
     "execution_count": 289,
     "metadata": {},
     "output_type": "execute_result"
    }
   ],
   "source": [
    "symm_loss_scalar7_debug(dJetMassSq_dFeatures, jet_features, four_vec, jet_vec)"
   ]
  },
  {
   "cell_type": "code",
   "execution_count": 40,
   "metadata": {
    "tags": []
   },
   "outputs": [],
   "source": [
    "p = torch.randn(10,3)\n",
    "E = p.norm(dim=-1)\n",
    "P = torch.cat([E.unsqueeze(-1),p],dim=1).unsqueeze(0)"
   ]
  },
  {
   "cell_type": "code",
   "execution_count": 41,
   "metadata": {
    "tags": []
   },
   "outputs": [
    {
     "data": {
      "text/plain": [
       "tensor([[[ 0.6076,  0.4468, -0.2869,  0.2954],\n",
       "         [ 0.7405,  0.6726,  0.0499, -0.3055],\n",
       "         [ 1.9375,  1.4218,  0.7007, -1.1143],\n",
       "         [ 1.5301, -1.3314,  0.4298,  0.6195],\n",
       "         [ 1.3119,  0.3953,  1.2402,  0.1633],\n",
       "         [ 0.6421, -0.0828,  0.5735,  0.2767],\n",
       "         [ 1.2475, -1.0370,  0.5688, -0.3966],\n",
       "         [ 1.5655,  0.5462, -0.1260,  1.4618],\n",
       "         [ 2.2024, -0.0066, -1.1691, -1.8664],\n",
       "         [ 1.1250, -0.6374, -0.4817,  0.7921]]])"
      ]
     },
     "execution_count": 41,
     "metadata": {},
     "output_type": "execute_result"
    }
   ],
   "source": [
    "P"
   ]
  },
  {
   "cell_type": "code",
   "execution_count": 52,
   "metadata": {
    "tags": []
   },
   "outputs": [
    {
     "name": "stdout",
     "output_type": "stream",
     "text": [
      "logE: tensor([[inf, -inf, -inf, inf, inf, inf, -inf, inf, -inf, inf]])\n",
      "logPt: tensor([[-0., -0., -0., 0., 0., 0., -0., -0., 0., -0.]])\n"
     ]
    },
    {
     "ename": "KeyError",
     "evalue": "'eta'",
     "output_type": "error",
     "traceback": [
      "\u001b[0;31m---------------------------------------------------------------------------\u001b[0m",
      "\u001b[0;31mKeyError\u001b[0m                                  Traceback (most recent call last)",
      "Cell \u001b[0;32mIn[52], line 34\u001b[0m\n\u001b[1;32m     31\u001b[0m dict_gens \u001b[38;5;241m=\u001b[39m {\u001b[38;5;124m\"\u001b[39m\u001b[38;5;124mLx\u001b[39m\u001b[38;5;124m\"\u001b[39m: \u001b[38;5;241m0\u001b[39m, \u001b[38;5;124m\"\u001b[39m\u001b[38;5;124mLy\u001b[39m\u001b[38;5;124m\"\u001b[39m: \u001b[38;5;241m1\u001b[39m,  \u001b[38;5;124m\"\u001b[39m\u001b[38;5;124mLz\u001b[39m\u001b[38;5;124m\"\u001b[39m:  \u001b[38;5;241m2\u001b[39m,  \u001b[38;5;124m\"\u001b[39m\u001b[38;5;124mKx\u001b[39m\u001b[38;5;124m\"\u001b[39m:\u001b[38;5;241m3\u001b[39m, \u001b[38;5;124m\"\u001b[39m\u001b[38;5;124mKy\u001b[39m\u001b[38;5;124m\"\u001b[39m:\u001b[38;5;241m4\u001b[39m, \u001b[38;5;124m\"\u001b[39m\u001b[38;5;124mKz\u001b[39m\u001b[38;5;124m\"\u001b[39m:\u001b[38;5;241m5\u001b[39m}\n\u001b[1;32m     33\u001b[0m \u001b[38;5;28;01mfor\u001b[39;00m key \u001b[38;5;129;01min\u001b[39;00m dici\u001b[38;5;241m.\u001b[39mkeys():\n\u001b[0;32m---> 34\u001b[0m     \u001b[38;5;28mprint\u001b[39m(\u001b[38;5;124mf\u001b[39m\u001b[38;5;124m\"\u001b[39m\u001b[38;5;132;01m{\u001b[39;00mkey\u001b[38;5;132;01m}\u001b[39;00m\u001b[38;5;124m: \u001b[39m\u001b[38;5;132;01m{\u001b[39;00mdici[key][:,:,dict_gens[\u001b[38;5;124m'\u001b[39m\u001b[38;5;124mKz\u001b[39m\u001b[38;5;124m'\u001b[39m]]\u001b[38;5;241m/\u001b[39mdelta_P7[:,dict_vars[key]]\u001b[38;5;132;01m}\u001b[39;00m\u001b[38;5;124m\"\u001b[39m)\n",
      "\u001b[0;31mKeyError\u001b[0m: 'eta'"
     ]
    }
   ],
   "source": [
    "def extract_jet_features(P):\n",
    "    P_cy = to_cylindrical(P, log=False)\n",
    "    P_jet = torch.sum(P, dim=1, keepdim=True)\n",
    "    P_jet_cy = to_cylindrical(P_jet, log=False)\n",
    "    P_features = get_jet_relvars_jv(P, P_cy, P_jet_cy)\n",
    "    return P_features\n",
    "\n",
    "# generate small random data [10,4]\n",
    "P7 = extract_jet_features(P).squeeze(0)\n",
    "\n",
    "# small x-z plane rotation\n",
    "theta = torch.tensor(1e-5)\n",
    "beta = torch.tensor(1e-5)\n",
    "P_rot = P.clone()\n",
    "rot_matrix4Dxz = torch.tensor([[1,0,0,0],[0,torch.cos(theta),0,-torch.sin(theta)],[0,0,1,0],[0,torch.sin(theta),0,torch.cos(theta)]])\n",
    "rot_matrix4Dxy = torch.tensor([[1,0,0,0],[0,torch.cos(theta),-torch.sin(theta),0],[0,torch.sin(theta),torch.cos(theta),0],[0,0,0,1]])\n",
    "# boost in a given direction by beta\n",
    "boost_matrix4Dx = torch.tensor([[torch.cosh(beta),torch.sinh(beta),0,0],[-torch.sinh(beta),torch.cosh(beta),0,0],[0,0,1,0],[0,0,0,1]])\n",
    "boost_matrix4Dy = torch.tensor([[torch.cosh(beta),0,torch.sinh(beta),0],[0,1,0,0],[torch.sinh(beta),0,torch.cosh(beta),0],[0,0,0,1]])\n",
    "boost_matrix4Dz = torch.tensor([[1,0,0,0],[0,1,0,0],[0,0,torch.cosh(beta),torch.sinh(beta)],[0,0,torch.sinh(beta),torch.cosh(beta)]])\n",
    "# rot_matrix4Dxt\n",
    "P_rot = torch.matmul(P_rot,boost_matrix4Dz)\n",
    "P7_rot = extract_jet_features(P_rot).squeeze(0)\n",
    "\n",
    "delta_P7 = (P7_rot - P7)/beta\n",
    "delta_P7[:,-4]\n",
    "\n",
    "dici = create_transformation_dict(P)\n",
    "dici['logPt'][:,:,-1]/delta_P7[:,-4]\n",
    "\n",
    "\n",
    "\n",
    "# order of features [dEta, dPhi, log_R_pt, log_Pt, log_R_E, log_E, dR]\n"
   ]
  },
  {
   "cell_type": "code",
   "execution_count": null,
   "metadata": {},
   "outputs": [],
   "source": []
  },
  {
   "cell_type": "code",
   "execution_count": 50,
   "metadata": {
    "tags": []
   },
   "outputs": [
    {
     "data": {
      "text/plain": [
       "dict_keys(['logE', 'logPt', 'eta', 'phi'])"
      ]
     },
     "execution_count": 50,
     "metadata": {},
     "output_type": "execute_result"
    }
   ],
   "source": [
    "dici.keys()"
   ]
  },
  {
   "cell_type": "code",
   "execution_count": 51,
   "metadata": {
    "tags": []
   },
   "outputs": [
    {
     "data": {
      "text/plain": [
       "tensor([[-1.2755,  0.4888, -0.2384, -0.3040,  0.0000,  0.0000, -0.8464],\n",
       "        [-0.9000, -0.4411,  0.0238, -0.0358,  0.0000,  0.0000,  0.6914],\n",
       "        [-0.7689, -0.6199, -0.2446, -0.3099,  0.0000,  0.0000,  0.9418],\n",
       "        [-0.7302, -0.3934,  0.1974,  0.1341,  0.0000,  0.0000, -0.5960],\n",
       "        [-0.0238,  0.0477,  0.1922,  0.1281,  0.0000,  0.0000, -0.0373],\n",
       "        [-0.2623, -0.0596,  0.5245,  0.4649,  0.0000,  0.0000, -0.2444],\n",
       "        [-0.5543,  0.2980, -0.1103, -0.1714,  0.0000,  0.0000,  0.4053],\n",
       "        [-0.5007,  2.5630, -0.5126, -0.5841,  0.0000,  0.0000, -2.0504],\n",
       "        [-0.1431,  0.0238,  1.6481,  1.5914,  0.0000,  0.0000,  0.0000],\n",
       "        [-0.9596, -0.7868, -0.5424, -0.6035,  0.0000,  0.0000, -1.0729]])"
      ]
     },
     "execution_count": 51,
     "metadata": {},
     "output_type": "execute_result"
    }
   ],
   "source": [
    "delta_P7"
   ]
  },
  {
   "cell_type": "raw",
   "metadata": {},
   "source": [
    "Inbar"
   ]
  },
  {
   "cell_type": "code",
   "execution_count": 16,
   "metadata": {
    "tags": []
   },
   "outputs": [
    {
     "name": "stdout",
     "output_type": "stream",
     "text": [
      "Using cuda device\n"
     ]
    }
   ],
   "source": [
    "import einops\n",
    "import numpy as np\n",
    "from top_symm_loss_defs import *"
   ]
  },
  {
   "cell_type": "code",
   "execution_count": 21,
   "metadata": {
    "tags": []
   },
   "outputs": [],
   "source": [
    "def Lorentz_Trans(data,beta,beta_dir = torch.tensor([1,0,0])):\n",
    "    data = data.to(devicef)\n",
    "    gamma = 1/np.sqrt(1-beta**2)\n",
    "    beta_dir = beta_dir/(torch.sqrt(torch.sum(beta_dir**2)))\n",
    "    # LorentzBoost = torch.tensor([[gamma, -gamma*beta,  0, 0],[-gamma*beta, gamma, 0, 0],[0,0,1,0],[0,0,0,1]],dtype = torch.float32).to(devicef)\n",
    "    LorentzBoost = torch.diag(torch.tensor([gamma,1,1,1],dtype = torch.float32)).to(devicef)\n",
    "    for i in range(1,4):\n",
    "        LorentzBoost[0,i] += -gamma*beta*beta_dir[i-1]\n",
    "        LorentzBoost[i,0] += -gamma*beta*beta_dir[i-1]\n",
    "        for j in range(1,4):\n",
    "            LorentzBoost[i,j] += 0.5*(gamma-1)*beta_dir[i-1]*beta_dir[j-1]\n",
    "            LorentzBoost[j,i] += 0.5*(gamma-1)*beta_dir[i-1]*beta_dir[j-1]\n",
    "    d = 4\n",
    "    data = einops.rearrange(data, '... (N d) -> ... N d',d = 4)\n",
    "    trans_data = torch.einsum(\"ij,...j-> ...i\",LorentzBoost,data).to(devicef)\n",
    "    trans_data = einops.rearrange(trans_data, '... N d -> ... (N d)', d = 4)\n",
    "    # print(LorentzBoost)\n",
    "    return trans_data"
   ]
  },
  {
   "cell_type": "code",
   "execution_count": 19,
   "metadata": {
    "tags": []
   },
   "outputs": [],
   "source": [
    "def rot(data,theta,theta_dir = torch.tensor([0,0,1])):\n",
    "    theta_dir = (theta_dir.to(devicef)/(torch.sqrt(torch.sum(theta_dir**2))))\n",
    "    # rotate = torch.tensor([[1, 0,  0, 0],[0, np.cos(theta), np.sin(theta), 0],[0,-np.sin(theta),np.cos(theta),0],[0,0,0,1]],dtype = torch.float32).to(devicef)\n",
    "    \n",
    "    rotate = torch.diag(torch.tensor([1,1,1,1],dtype = torch.float32)).to(devicef)\n",
    "    L_gens = gens_Lorentz[3::].to(devicef)\n",
    "    e_L_gens = torch.einsum(\"i,ijk-> jk\",theta_dir,L_gens).to(devicef)\n",
    "    rotate = rotate+np.sin(theta)*e_L_gens+(1-np.cos(theta))*torch.matmul(e_L_gens,e_L_gens)\n",
    "    \n",
    "    data = einops.rearrange(data, '... (N d) -> ... N d',d = 4)\n",
    "    trans_data = torch.einsum(\"ij,...j-> ...i\",rotate,data).to(devicef)\n",
    "    trans_data = einops.rearrange(trans_data, '... N d -> ... (N d)', d = 4)\n",
    "    return trans_data"
   ]
  },
  {
   "cell_type": "code",
   "execution_count": 68,
   "metadata": {
    "tags": []
   },
   "outputs": [
    {
     "data": {
      "text/plain": [
       "1.0000000000333335e-05"
      ]
     },
     "execution_count": 68,
     "metadata": {},
     "output_type": "execute_result"
    }
   ],
   "source": [
    "np.arctanh(beta_val)"
   ]
  },
  {
   "cell_type": "code",
   "execution_count": 27,
   "metadata": {
    "tags": []
   },
   "outputs": [
    {
     "data": {
      "text/plain": [
       "tensor([[[ 2.5921, -0.8946, -2.0957, -1.2356],\n",
       "         [ 2.2535, -1.7257,  1.3640,  0.4896],\n",
       "         [ 0.9337,  0.6965, -0.1372,  0.6065],\n",
       "         [ 2.0049,  1.3920,  1.0572, -0.9822],\n",
       "         [ 0.9899, -0.5183,  0.7142, -0.4486],\n",
       "         [ 0.8863, -0.0107, -0.8798, -0.1064],\n",
       "         [ 1.4226,  1.1438,  0.1438,  0.8336],\n",
       "         [ 1.4395,  1.3956, -0.2734,  0.2230],\n",
       "         [ 2.0366,  1.3646,  0.9840,  1.1477],\n",
       "         [ 2.1046, -1.8813,  0.0457, -0.9423]]], device='cuda:0')"
      ]
     },
     "execution_count": 27,
     "metadata": {},
     "output_type": "execute_result"
    }
   ],
   "source": [
    "P_trans_z"
   ]
  },
  {
   "cell_type": "code",
   "execution_count": 28,
   "metadata": {
    "tags": []
   },
   "outputs": [],
   "source": [
    "P_rot_z = torch.matmul(P.clone(),boost_matrix4Dz)"
   ]
  },
  {
   "cell_type": "code",
   "execution_count": 29,
   "metadata": {
    "tags": []
   },
   "outputs": [
    {
     "data": {
      "text/plain": [
       "tensor([[[ 2.5921, -0.8946, -2.0957, -1.2356],\n",
       "         [ 2.2535, -1.7257,  1.3640,  0.4896],\n",
       "         [ 0.9337,  0.6965, -0.1372,  0.6065],\n",
       "         [ 2.0049,  1.3920,  1.0572, -0.9821],\n",
       "         [ 0.9899, -0.5183,  0.7142, -0.4485],\n",
       "         [ 0.8863, -0.0107, -0.8798, -0.1064],\n",
       "         [ 1.4226,  1.1438,  0.1438,  0.8336],\n",
       "         [ 1.4395,  1.3956, -0.2734,  0.2230],\n",
       "         [ 2.0366,  1.3646,  0.9840,  1.1477],\n",
       "         [ 2.1046, -1.8813,  0.0457, -0.9423]]])"
      ]
     },
     "execution_count": 29,
     "metadata": {},
     "output_type": "execute_result"
    }
   ],
   "source": [
    "P_rot_z"
   ]
  },
  {
   "cell_type": "code",
   "execution_count": 74,
   "metadata": {
    "tags": []
   },
   "outputs": [],
   "source": [
    "p = torch.randn(10,3)\n",
    "E = p.norm(dim=-1)\n",
    "P = torch.cat([E.unsqueeze(-1),p],dim=1).unsqueeze(0)"
   ]
  },
  {
   "cell_type": "code",
   "execution_count": 121,
   "metadata": {
    "tags": []
   },
   "outputs": [
    {
     "name": "stdout",
     "output_type": "stream",
     "text": [
      "logE:\n",
      " var =tensor([[-0.5917,  0.4324, -0.8017, -0.7570, -0.9978, -0.3335,  0.1330, -0.3406,\n",
      "          0.7937,  0.1970]], device='cuda:0')\n",
      " num = tensor([-0.5901,  0.4306, -0.8047, -0.7540, -1.0014, -0.3338,  0.1311, -0.3397,\n",
      "         0.7987,  0.1982], device='cuda:0')\n",
      "\n",
      "logPt:\n",
      " var =tensor([[-0.8421,  0.4429, -0.8187, -1.1802, -1.0018, -0.7861,  0.3141, -1.6342,\n",
      "          1.2277,  0.2334]], device='cuda:0')\n",
      " num = tensor([-0.8374,  0.4455, -0.8106, -1.1817, -1.0014, -0.7838,  0.3099, -1.6287,\n",
      "         1.2279,  0.2325], device='cuda:0')\n",
      "\n",
      "dEta:\n",
      " var =tensor([[-0.4829, -0.0918, -0.1415, -0.7304, -0.0874,  0.5728,  0.2148,  1.4303,\n",
      "          0.7063, -0.1159]], device='cuda:0')\n",
      " num = tensor([-0.4768, -0.0924, -0.1416, -0.7331, -0.0879,  0.5603,  0.2146,  1.4186,\n",
      "         0.7093, -0.1103], device='cuda:0')\n",
      "\n",
      "dPhi:\n",
      " var =tensor([[-0.4080, -0.3430, -1.8454, -0.8454, -1.2735,  0.0657, -2.7572,  0.2053,\n",
      "         -1.0541, -0.1897]], device='cuda:0')\n",
      " num = tensor([-0.4292, -0.3457, -1.8120, -0.8583, -1.2875,  0.0715, -2.7657,  0.2146,\n",
      "        -1.0729, -0.2027], device='cuda:0')\n",
      "\n",
      "log_R_pt:\n",
      " var =tensor([[1.3470, 2.6321, 1.3704, 1.0089, 1.1873, 1.4030, 2.5032, 0.5549, 3.4168,\n",
      "         2.4226]], device='cuda:0')\n",
      " num = tensor([1.3471, 2.6345, 1.3828, 1.0014, 1.1861, 1.4186, 2.5034, 0.5603, 3.4094,\n",
      "        2.4080], device='cuda:0')\n",
      "\n",
      "log_R_E:\n",
      " var =tensor([[-0.2476,  0.7765, -0.4577, -0.4129, -0.6537,  0.0106,  0.4771,  0.0034,\n",
      "          1.1378,  0.5411]], device='cuda:0')\n",
      " num = tensor([-0.2384,  0.7629, -0.4649, -0.4292, -0.6676, -0.0000,  0.4530, -0.0000,\n",
      "         1.1444,  0.5245], device='cuda:0')\n",
      "\n",
      "dR:\n",
      " var =tensor([[ 0.2828, -0.3502,  1.8476,  0.9237,  1.2735,  0.5381,  2.4397,  1.4450,\n",
      "         -1.2064, -0.2161]], device='cuda:0')\n",
      " num = tensor([ 0.2682, -0.3576,  1.8120,  0.9298,  1.2875,  0.5245,  2.4557,  1.4424,\n",
      "        -1.2159, -0.2265], device='cuda:0')\n",
      "\n"
     ]
    }
   ],
   "source": [
    "beta_val = 1e-5\n",
    "P_rot = P.clone().to(devicef)\n",
    "P7 = extract_jet_features(P).squeeze(0).to(devicef)\n",
    "P_trans_z = Lorentz_Trans(data = P,beta = beta_val,beta_dir = torch.tensor([1,0,0]))\n",
    "P7_rot = extract_jet_features(P_trans_z).squeeze(0).to(devicef)\n",
    "\n",
    "delta_P7 = -(P7_rot - P7)/np.arctanh(beta_val)\n",
    "delta_P7[:,-4]\n",
    "\n",
    "dici = create_transformation_dict(P_rot)\n",
    "trans_dict = create_transformation_dict(P_rot)\n",
    "trans_dict_jet = create_transformation_dict(torch.sum(P.to(devicef), dim=1, keepdim=True))\n",
    "\n",
    "dici[\"dEta\"] = trans_dict['eta'] - trans_dict_jet['eta']\n",
    "dici[\"dPhi\"] = trans_dict['phi'] - trans_dict_jet['phi']\n",
    "dici[\"log_R_pt\"] = (trans_dict['logPt'] - trans_dict_jet['logPt'])\n",
    "dici[\"log_R_E\"] = (trans_dict['logE'] - trans_dict_jet['logE'])\n",
    "\n",
    "\n",
    "# delta R calculation (K_tensor)\n",
    "K_tensor = (P7[:,0].unsqueeze(-1) * (trans_dict['eta'] - trans_dict_jet['eta']))\n",
    "K_tensor += (P7[:,1].unsqueeze(-1) * (trans_dict['phi'] - trans_dict_jet['phi']))\n",
    "K_tensor /= P7[:,6].unsqueeze(-1)+1e-10 # Avoid division by zero\n",
    "dici[\"dR\"] = K_tensor\n",
    "\n",
    "#dici['logPt'][:,:,-1]/delta_P7[:,-4]\n",
    "dict_vars = {\"dEta\":0, \"dPhi\":1, \"log_R_pt\":2, \"logPt\":3, \"log_R_E\":4, \"logE\":5, \"dR\":6}\n",
    "dict_gens = {\"Lx\": 0, \"Ly\": 1,  \"Lz\":  2,  \"Kx\":3, \"Ky\":4, \"Kz\":5}\n",
    "\n",
    "for key in dici.keys():\n",
    "    if key in dict_vars.keys():\n",
    "        print(f\"{key}:\\n var ={dici[key][:,:,dict_gens['Kx']]}\\n num = {delta_P7[:,dict_vars[key]]}\")\n",
    "        print()"
   ]
  },
  {
   "cell_type": "code",
   "execution_count": 125,
   "metadata": {
    "tags": []
   },
   "outputs": [
    {
     "name": "stdout",
     "output_type": "stream",
     "text": [
      "logE:\n",
      " var =tensor([[0., 0., 0., 0., 0., 0., 0., 0., 0., 0.]], device='cuda:0')\n",
      " num = tensor([-0., -0., -0., -0., -0., -0., -0., -0., -0., -0.], device='cuda:0')\n",
      "\n",
      "logPt:\n",
      " var =tensor([[0., 0., 0., 0., 0., 0., 0., 0., 0., 0.]], device='cuda:0')\n",
      " num = tensor([-0.0000, -0.0000,  0.0119, -0.0000, -0.0000, -0.0000, -0.0060, -0.0000,\n",
      "        -0.0000, -0.0000], device='cuda:0')\n",
      "\n",
      "dEta:\n",
      " var =tensor([[0., 0., 0., 0., 0., 0., 0., 0., 0., 0.]], device='cuda:0')\n",
      " num = tensor([-0.0000, -0.0000, 0.0015, -0.0000, -0.0000, -0.0000, -0.0000, -0.0000, -0.0000,\n",
      "        -0.0000], device='cuda:0')\n",
      "\n",
      "dPhi:\n",
      " var =tensor([[0., 0., 0., 0., 0., 0., 0., 0., 0., 0.]], device='cuda:0')\n",
      " num = tensor([-0.0000, 0.0119, -0.0000, -0.0000, -0.0000, 0.0238, -0.0000, -0.0000, -0.0000,\n",
      "        -0.0000], device='cuda:0')\n",
      "\n",
      "log_R_pt:\n",
      " var =tensor([[0., 0., 0., 0., 0., 0., 0., 0., 0., 0.]], device='cuda:0')\n",
      " num = tensor([-0.0000, -0.0000,  0.0119, -0.0000, -0.0000, -0.0000, -0.0238, -0.0000,\n",
      "        -0.0000, -0.0000], device='cuda:0')\n",
      "\n",
      "log_R_E:\n",
      " var =tensor([[0., 0., 0., 0., 0., 0., 0., 0., 0., 0.]], device='cuda:0')\n",
      " num = tensor([-0., -0., -0., -0., -0., -0., -0., -0., -0., -0.], device='cuda:0')\n",
      "\n",
      "dR:\n",
      " var =tensor([[0., 0., -0., -0., -0., 0., -0., 0., 0., 0.]], device='cuda:0')\n",
      " num = tensor([-0.0000, 0.0119, -0.0000, -0.0000, -0.0000, 0.0119, -0.0000, -0.0000, -0.0000,\n",
      "        -0.0000], device='cuda:0')\n",
      "\n"
     ]
    }
   ],
   "source": [
    "theta_val = 1e-5\n",
    "P_rot = P.clone().to(devicef)\n",
    "P7 = extract_jet_features(P).squeeze(0).to(devicef)\n",
    "P_trans_z = rot(data = P.to(devicef),theta = theta_val,theta_dir = torch.tensor([0,0,1]))\n",
    "P7_rot = extract_jet_features(P_trans_z).squeeze(0).to(devicef)\n",
    "\n",
    "delta_P7 = -(P7_rot - P7)/np.arctanh(beta_val)\n",
    "delta_P7[:,-4]\n",
    "\n",
    "dici = create_transformation_dict(P_rot)\n",
    "trans_dict = create_transformation_dict(P_rot)\n",
    "trans_dict_jet = create_transformation_dict(torch.sum(P.to(devicef), dim=1, keepdim=True))\n",
    "\n",
    "dici[\"dEta\"] = trans_dict['eta'] - trans_dict_jet['eta']\n",
    "dici[\"dPhi\"] = trans_dict['phi'] - trans_dict_jet['phi']\n",
    "dici[\"log_R_pt\"] = (trans_dict['logPt'] - trans_dict_jet['logPt'])\n",
    "dici[\"log_R_E\"] = (trans_dict['logE'] - trans_dict_jet['logE'])\n",
    "\n",
    "\n",
    "# delta R calculation (K_tensor)\n",
    "K_tensor = (P7[:,0].unsqueeze(-1) * (trans_dict['eta'] - trans_dict_jet['eta']))\n",
    "K_tensor += (P7[:,1].unsqueeze(-1) * (trans_dict['phi'] - trans_dict_jet['phi']))\n",
    "K_tensor /= P7[:,6].unsqueeze(-1)+1e-10 # Avoid division by zero\n",
    "dici[\"dR\"] = K_tensor\n",
    "\n",
    "#dici['logPt'][:,:,-1]/delta_P7[:,-4]\n",
    "dict_vars = {\"dEta\":0, \"dPhi\":1, \"log_R_pt\":2, \"logPt\":3, \"log_R_E\":4, \"logE\":5, \"dR\":6}\n",
    "dict_gens = {\"Lx\": 0, \"Ly\": 1,  \"Lz\":  2,  \"Kx\":3, \"Ky\":4, \"Kz\":5}\n",
    "\n",
    "for key in dici.keys():\n",
    "    if key in dict_vars.keys():\n",
    "        print(f\"{key}:\\n var ={dici[key][:,:,dict_gens['Lz']]}\\n num = {delta_P7[:,dict_vars[key]]}\")\n",
    "        print()"
   ]
  },
  {
   "cell_type": "code",
   "execution_count": 96,
   "metadata": {
    "tags": []
   },
   "outputs": [
    {
     "data": {
      "text/plain": [
       "tensor([ 0.5174,  0.2415,  0.8873,  0.4384,  1.0477,  0.6875, -0.3873,  0.8571,\n",
       "         0.6752, -0.1753], device='cuda:0')"
      ]
     },
     "execution_count": 96,
     "metadata": {},
     "output_type": "execute_result"
    }
   ],
   "source": [
    "P7[:,dict_vars[\"logE\"]]"
   ]
  },
  {
   "cell_type": "code",
   "execution_count": 87,
   "metadata": {
    "tags": []
   },
   "outputs": [
    {
     "data": {
      "text/plain": [
       "tensor([[[ 1.6777, -0.9927, -0.9961, -0.9149],\n",
       "         [ 1.2731,  0.5505, -1.1311,  0.1959],\n",
       "         [ 2.4286, -1.9471,  1.4088, -0.3496],\n",
       "         [ 1.5502, -1.1735, -0.4053, -0.9283],\n",
       "         [ 2.8510, -2.8447,  0.0580, -0.1813],\n",
       "         [ 1.9887, -0.6633, -1.1127,  1.5090],\n",
       "         [ 0.6789,  0.0903,  0.4325, -0.5154],\n",
       "         [ 2.3562, -0.8027, -0.7162,  2.0963],\n",
       "         [ 1.9645,  1.5592, -0.2527, -1.1680],\n",
       "         [ 0.8392,  0.1653, -0.7530,  0.3316]]])"
      ]
     },
     "execution_count": 87,
     "metadata": {},
     "output_type": "execute_result"
    }
   ],
   "source": [
    "P"
   ]
  },
  {
   "cell_type": "code",
   "execution_count": 109,
   "metadata": {
    "tags": []
   },
   "outputs": [
    {
     "data": {
      "text/plain": [
       "tensor([[-0.6225,  0.2672, -1.6022,  0.3410, -2.3509,  0.5174,  0.6774],\n",
       "        [ 0.1443,  1.5039, -1.7137,  0.2295, -2.6269,  0.2415,  1.5108],\n",
       "        [-0.1558, -1.1462, -1.0663,  0.8768, -1.9811,  0.8873,  1.1567],\n",
       "        [-0.7021, -0.1873, -1.7268,  0.2163, -2.4300,  0.4384,  0.7267],\n",
       "        [-0.0745, -0.5403, -0.8975,  1.0457, -1.8207,  1.0477,  0.5454],\n",
       "        [ 0.9825,  0.5134, -1.6843,  0.2588, -2.1809,  0.6875,  1.1085],\n",
       "        [-1.0053, -2.2965, -2.7601, -0.8169, -3.2557, -0.3873,  2.5069],\n",
       "        [ 1.4096,  0.2087, -1.8701,  0.0730, -2.0113,  0.8571,  1.4250],\n",
       "        [-0.6955,  2.4611, -1.4860,  0.4572, -2.1931,  0.6752,  2.5575],\n",
       "        [ 0.4071,  1.2671, -2.2034, -0.2602, -3.0437, -0.1753,  1.3309]],\n",
       "       device='cuda:0')"
      ]
     },
     "execution_count": 109,
     "metadata": {},
     "output_type": "execute_result"
    }
   ],
   "source": [
    "P7"
   ]
  },
  {
   "cell_type": "code",
   "execution_count": 112,
   "metadata": {
    "tags": []
   },
   "outputs": [
    {
     "data": {
      "text/plain": [
       "tensor([[-0.6225,  0.2672, -1.6022,  0.3410, -2.3509,  0.5174,  0.6774],\n",
       "        [ 0.1443,  1.5039, -1.7137,  0.2295, -2.6269,  0.2415,  1.5108],\n",
       "        [-0.1558, -1.1462, -1.0663,  0.8768, -1.9811,  0.8873,  1.1567],\n",
       "        [-0.7021, -0.1873, -1.7269,  0.2163, -2.4300,  0.4384,  0.7267],\n",
       "        [-0.0745, -0.5402, -0.8975,  1.0457, -1.8207,  1.0477,  0.5454],\n",
       "        [ 0.9825,  0.5134, -1.6844,  0.2588, -2.1809,  0.6875,  1.1085],\n",
       "        [-1.0053, -2.2965, -2.7601, -0.8169, -3.2557, -0.3873,  2.5069],\n",
       "        [ 1.4096,  0.2087, -1.8701,  0.0730, -2.0113,  0.8571,  1.4250],\n",
       "        [-0.6955,  2.4611, -1.4860,  0.4571, -2.1931,  0.6752,  2.5575],\n",
       "        [ 0.4071,  1.2671, -2.2034, -0.2602, -3.0437, -0.1753,  1.3309]],\n",
       "       device='cuda:0')"
      ]
     },
     "execution_count": 112,
     "metadata": {},
     "output_type": "execute_result"
    }
   ],
   "source": [
    "P7_rot"
   ]
  }
 ],
 "metadata": {
  "kernelspec": {
   "display_name": "pytorch-2.0.1",
   "language": "python",
   "name": "pytorch-2.0.1"
  },
  "language_info": {
   "codemirror_mode": {
    "name": "ipython",
    "version": 3
   },
   "file_extension": ".py",
   "mimetype": "text/x-python",
   "name": "python",
   "nbconvert_exporter": "python",
   "pygments_lexer": "ipython3",
   "version": "3.9.16"
  }
 },
 "nbformat": 4,
 "nbformat_minor": 4
}
